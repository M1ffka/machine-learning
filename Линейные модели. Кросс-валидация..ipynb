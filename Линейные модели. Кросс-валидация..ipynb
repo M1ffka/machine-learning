{
 "cells": [
  {
   "cell_type": "code",
   "execution_count": 59,
   "id": "c8ea5b7a-7c50-4a08-b8f1-556647627e6c",
   "metadata": {},
   "outputs": [],
   "source": [
    "import numpy as np\n",
    "# фреймы данных\n",
    "import pandas as pd\n",
    "# графики\n",
    "import matplotlib as mpl\n",
    "# стили и шаблоны графиков на основе matplotlib\n",
    "import seaborn as sns\n",
    "# перекодировка категориальных переменных\n",
    "from sklearn.preprocessing import LabelEncoder\n",
    "# тест Шапиро-Уилка на нормальность распределения\n",
    "from scipy.stats import shapiro\n",
    "# для таймера\n",
    "import time\n",
    "import sklearn.linear_model as skl_lm\n",
    "# расчёт MSE\n",
    "from sklearn.metrics import mean_squared_error\n",
    "# кросс-валидация\n",
    "from sklearn.model_selection import train_test_split, LeaveOneOut\n",
    "from sklearn.model_selection import KFold, cross_val_score"
   ]
  },
  {
   "cell_type": "code",
   "execution_count": 61,
   "id": "5eaf279b-4abf-46ef-9853-ca737a174d20",
   "metadata": {},
   "outputs": [],
   "source": [
    "my_seed = 9212\n",
    "# создаём псевдоним для короткого обращения к графикам\n",
    "plt = mpl.pyplot\n",
    "# настройка стиля и отображения графиков\n",
    "# примеры стилей и шаблонов графиков:\n",
    "# http://tonysyu.github.io/raw_content/matplotlib-style-gallery/gallery.html"
   ]
  },
  {
   "cell_type": "markdown",
   "id": "e0293b77",
   "metadata": {},
   "source": [
    "# Загружаем данные"
   ]
  },
  {
   "cell_type": "code",
   "execution_count": 3,
   "id": "28e02d26-b3be-45e6-9f3a-7c795aa56f74",
   "metadata": {},
   "outputs": [
    {
     "name": "stdout",
     "output_type": "stream",
     "text": [
      "(506, 15)\n"
     ]
    }
   ],
   "source": [
    "fileURL = 'https://raw.githubusercontent.com/ania607/ML/main/data/Boston_for_lab.csv'\n",
    "DF_raw = pd.read_csv(fileURL)\n",
    "print(DF_raw.shape)"
   ]
  },
  {
   "cell_type": "code",
   "execution_count": 4,
   "id": "87786cdc",
   "metadata": {},
   "outputs": [
    {
     "data": {
      "text/html": [
       "<div>\n",
       "<style scoped>\n",
       "    .dataframe tbody tr th:only-of-type {\n",
       "        vertical-align: middle;\n",
       "    }\n",
       "\n",
       "    .dataframe tbody tr th {\n",
       "        vertical-align: top;\n",
       "    }\n",
       "\n",
       "    .dataframe thead th {\n",
       "        text-align: right;\n",
       "    }\n",
       "</style>\n",
       "<table border=\"1\" class=\"dataframe\">\n",
       "  <thead>\n",
       "    <tr style=\"text-align: right;\">\n",
       "      <th></th>\n",
       "      <th>crim</th>\n",
       "      <th>zn</th>\n",
       "      <th>indus</th>\n",
       "      <th>chas</th>\n",
       "      <th>nox</th>\n",
       "      <th>rm</th>\n",
       "      <th>age</th>\n",
       "      <th>dis</th>\n",
       "      <th>rad</th>\n",
       "      <th>tax</th>\n",
       "      <th>ptratio</th>\n",
       "      <th>black</th>\n",
       "      <th>lstat</th>\n",
       "      <th>medv</th>\n",
       "      <th>tax_over_400</th>\n",
       "    </tr>\n",
       "  </thead>\n",
       "  <tbody>\n",
       "    <tr>\n",
       "      <th>0</th>\n",
       "      <td>0.00632</td>\n",
       "      <td>18.0</td>\n",
       "      <td>2.31</td>\n",
       "      <td>0</td>\n",
       "      <td>0.538</td>\n",
       "      <td>6.575</td>\n",
       "      <td>65.2</td>\n",
       "      <td>4.0900</td>\n",
       "      <td>1</td>\n",
       "      <td>296</td>\n",
       "      <td>15.3</td>\n",
       "      <td>396.90</td>\n",
       "      <td>4.98</td>\n",
       "      <td>24.0</td>\n",
       "      <td>0</td>\n",
       "    </tr>\n",
       "    <tr>\n",
       "      <th>1</th>\n",
       "      <td>0.02731</td>\n",
       "      <td>0.0</td>\n",
       "      <td>7.07</td>\n",
       "      <td>0</td>\n",
       "      <td>0.469</td>\n",
       "      <td>6.421</td>\n",
       "      <td>78.9</td>\n",
       "      <td>4.9671</td>\n",
       "      <td>2</td>\n",
       "      <td>242</td>\n",
       "      <td>17.8</td>\n",
       "      <td>396.90</td>\n",
       "      <td>9.14</td>\n",
       "      <td>21.6</td>\n",
       "      <td>0</td>\n",
       "    </tr>\n",
       "    <tr>\n",
       "      <th>2</th>\n",
       "      <td>0.02729</td>\n",
       "      <td>0.0</td>\n",
       "      <td>7.07</td>\n",
       "      <td>0</td>\n",
       "      <td>0.469</td>\n",
       "      <td>7.185</td>\n",
       "      <td>61.1</td>\n",
       "      <td>4.9671</td>\n",
       "      <td>2</td>\n",
       "      <td>242</td>\n",
       "      <td>17.8</td>\n",
       "      <td>392.83</td>\n",
       "      <td>4.03</td>\n",
       "      <td>34.7</td>\n",
       "      <td>0</td>\n",
       "    </tr>\n",
       "    <tr>\n",
       "      <th>3</th>\n",
       "      <td>0.03237</td>\n",
       "      <td>0.0</td>\n",
       "      <td>2.18</td>\n",
       "      <td>0</td>\n",
       "      <td>0.458</td>\n",
       "      <td>6.998</td>\n",
       "      <td>45.8</td>\n",
       "      <td>6.0622</td>\n",
       "      <td>3</td>\n",
       "      <td>222</td>\n",
       "      <td>18.7</td>\n",
       "      <td>394.63</td>\n",
       "      <td>2.94</td>\n",
       "      <td>33.4</td>\n",
       "      <td>0</td>\n",
       "    </tr>\n",
       "    <tr>\n",
       "      <th>4</th>\n",
       "      <td>0.06905</td>\n",
       "      <td>0.0</td>\n",
       "      <td>2.18</td>\n",
       "      <td>0</td>\n",
       "      <td>0.458</td>\n",
       "      <td>7.147</td>\n",
       "      <td>54.2</td>\n",
       "      <td>6.0622</td>\n",
       "      <td>3</td>\n",
       "      <td>222</td>\n",
       "      <td>18.7</td>\n",
       "      <td>396.90</td>\n",
       "      <td>5.33</td>\n",
       "      <td>36.2</td>\n",
       "      <td>0</td>\n",
       "    </tr>\n",
       "  </tbody>\n",
       "</table>\n",
       "</div>"
      ],
      "text/plain": [
       "      crim    zn  indus  chas    nox     rm   age     dis  rad  tax  ptratio  \\\n",
       "0  0.00632  18.0   2.31     0  0.538  6.575  65.2  4.0900    1  296     15.3   \n",
       "1  0.02731   0.0   7.07     0  0.469  6.421  78.9  4.9671    2  242     17.8   \n",
       "2  0.02729   0.0   7.07     0  0.469  7.185  61.1  4.9671    2  242     17.8   \n",
       "3  0.03237   0.0   2.18     0  0.458  6.998  45.8  6.0622    3  222     18.7   \n",
       "4  0.06905   0.0   2.18     0  0.458  7.147  54.2  6.0622    3  222     18.7   \n",
       "\n",
       "    black  lstat  medv  tax_over_400  \n",
       "0  396.90   4.98  24.0             0  \n",
       "1  396.90   9.14  21.6             0  \n",
       "2  392.83   4.03  34.7             0  \n",
       "3  394.63   2.94  33.4             0  \n",
       "4  396.90   5.33  36.2             0  "
      ]
     },
     "execution_count": 4,
     "metadata": {},
     "output_type": "execute_result"
    }
   ],
   "source": [
    "DF_raw.head(5)"
   ]
  },
  {
   "cell_type": "code",
   "execution_count": 5,
   "id": "52ffc630",
   "metadata": {},
   "outputs": [
    {
     "data": {
      "text/plain": [
       "crim            float64\n",
       "zn              float64\n",
       "indus           float64\n",
       "chas              int64\n",
       "nox             float64\n",
       "rm              float64\n",
       "age             float64\n",
       "dis             float64\n",
       "rad               int64\n",
       "tax               int64\n",
       "ptratio         float64\n",
       "black           float64\n",
       "lstat           float64\n",
       "medv            float64\n",
       "tax_over_400      int64\n",
       "dtype: object"
      ]
     },
     "execution_count": 5,
     "metadata": {},
     "output_type": "execute_result"
    }
   ],
   "source": [
    "DF_raw.dtypes"
   ]
  },
  {
   "cell_type": "code",
   "execution_count": 60,
   "id": "79361ad3",
   "metadata": {},
   "outputs": [
    {
     "data": {
      "text/plain": [
       "crim            0\n",
       "zn              0\n",
       "indus           0\n",
       "chas            0\n",
       "nox             0\n",
       "rm              0\n",
       "age             0\n",
       "dis             0\n",
       "rad             0\n",
       "tax             0\n",
       "ptratio         0\n",
       "black           0\n",
       "lstat           0\n",
       "medv            0\n",
       "tax_over_400    0\n",
       "dtype: int64"
      ]
     },
     "execution_count": 60,
     "metadata": {},
     "output_type": "execute_result"
    }
   ],
   "source": [
    "DF_raw.isna().sum()\n"
   ]
  },
  {
   "cell_type": "code",
   "execution_count": 7,
   "id": "e78b5e65",
   "metadata": {},
   "outputs": [
    {
     "data": {
      "text/html": [
       "<div>\n",
       "<style scoped>\n",
       "    .dataframe tbody tr th:only-of-type {\n",
       "        vertical-align: middle;\n",
       "    }\n",
       "\n",
       "    .dataframe tbody tr th {\n",
       "        vertical-align: top;\n",
       "    }\n",
       "\n",
       "    .dataframe thead th {\n",
       "        text-align: right;\n",
       "    }\n",
       "</style>\n",
       "<table border=\"1\" class=\"dataframe\">\n",
       "  <thead>\n",
       "    <tr style=\"text-align: right;\">\n",
       "      <th></th>\n",
       "      <th>medv</th>\n",
       "      <th>rm</th>\n",
       "      <th>indus</th>\n",
       "      <th>tax_over_400</th>\n",
       "    </tr>\n",
       "  </thead>\n",
       "  <tbody>\n",
       "    <tr>\n",
       "      <th>0</th>\n",
       "      <td>24.0</td>\n",
       "      <td>6.575</td>\n",
       "      <td>2.31</td>\n",
       "      <td>0</td>\n",
       "    </tr>\n",
       "    <tr>\n",
       "      <th>1</th>\n",
       "      <td>21.6</td>\n",
       "      <td>6.421</td>\n",
       "      <td>7.07</td>\n",
       "      <td>0</td>\n",
       "    </tr>\n",
       "    <tr>\n",
       "      <th>2</th>\n",
       "      <td>34.7</td>\n",
       "      <td>7.185</td>\n",
       "      <td>7.07</td>\n",
       "      <td>0</td>\n",
       "    </tr>\n",
       "    <tr>\n",
       "      <th>3</th>\n",
       "      <td>33.4</td>\n",
       "      <td>6.998</td>\n",
       "      <td>2.18</td>\n",
       "      <td>0</td>\n",
       "    </tr>\n",
       "    <tr>\n",
       "      <th>4</th>\n",
       "      <td>36.2</td>\n",
       "      <td>7.147</td>\n",
       "      <td>2.18</td>\n",
       "      <td>0</td>\n",
       "    </tr>\n",
       "  </tbody>\n",
       "</table>\n",
       "</div>"
      ],
      "text/plain": [
       "   medv     rm  indus  tax_over_400\n",
       "0  24.0  6.575   2.31             0\n",
       "1  21.6  6.421   7.07             0\n",
       "2  34.7  7.185   7.07             0\n",
       "3  33.4  6.998   2.18             0\n",
       "4  36.2  7.147   2.18             0"
      ]
     },
     "execution_count": 7,
     "metadata": {},
     "output_type": "execute_result"
    }
   ],
   "source": [
    "DF_all = DF_raw[['medv', 'rm', 'indus', 'tax_over_400']]\n",
    "DF_all.head(5)"
   ]
  },
  {
   "cell_type": "code",
   "execution_count": 8,
   "id": "6f432618",
   "metadata": {},
   "outputs": [],
   "source": [
    "DF = DF_all.sample(frac = 0.8, random_state = my_seed)\n",
    "DF_predict = DF_all.drop(DF.index)"
   ]
  },
  {
   "cell_type": "markdown",
   "id": "37304448",
   "metadata": {},
   "source": [
    "# Предварительный анализ данных\n",
    "## Считаем описательные статистики"
   ]
  },
  {
   "cell_type": "code",
   "execution_count": 9,
   "id": "c8f6b152",
   "metadata": {},
   "outputs": [
    {
     "data": {
      "text/html": [
       "<div>\n",
       "<style scoped>\n",
       "    .dataframe tbody tr th:only-of-type {\n",
       "        vertical-align: middle;\n",
       "    }\n",
       "\n",
       "    .dataframe tbody tr th {\n",
       "        vertical-align: top;\n",
       "    }\n",
       "\n",
       "    .dataframe thead th {\n",
       "        text-align: right;\n",
       "    }\n",
       "</style>\n",
       "<table border=\"1\" class=\"dataframe\">\n",
       "  <thead>\n",
       "    <tr style=\"text-align: right;\">\n",
       "      <th></th>\n",
       "      <th>medv</th>\n",
       "      <th>rm</th>\n",
       "      <th>indus</th>\n",
       "    </tr>\n",
       "  </thead>\n",
       "  <tbody>\n",
       "    <tr>\n",
       "      <th>count</th>\n",
       "      <td>405.000000</td>\n",
       "      <td>405.000000</td>\n",
       "      <td>405.000000</td>\n",
       "    </tr>\n",
       "    <tr>\n",
       "      <th>mean</th>\n",
       "      <td>22.506173</td>\n",
       "      <td>6.264746</td>\n",
       "      <td>11.114568</td>\n",
       "    </tr>\n",
       "    <tr>\n",
       "      <th>std</th>\n",
       "      <td>9.192299</td>\n",
       "      <td>0.712511</td>\n",
       "      <td>6.724333</td>\n",
       "    </tr>\n",
       "    <tr>\n",
       "      <th>min</th>\n",
       "      <td>5.000000</td>\n",
       "      <td>3.561000</td>\n",
       "      <td>0.460000</td>\n",
       "    </tr>\n",
       "    <tr>\n",
       "      <th>25%</th>\n",
       "      <td>17.200000</td>\n",
       "      <td>5.875000</td>\n",
       "      <td>5.320000</td>\n",
       "    </tr>\n",
       "    <tr>\n",
       "      <th>50%</th>\n",
       "      <td>21.000000</td>\n",
       "      <td>6.167000</td>\n",
       "      <td>9.690000</td>\n",
       "    </tr>\n",
       "    <tr>\n",
       "      <th>75%</th>\n",
       "      <td>25.000000</td>\n",
       "      <td>6.606000</td>\n",
       "      <td>18.100000</td>\n",
       "    </tr>\n",
       "    <tr>\n",
       "      <th>max</th>\n",
       "      <td>50.000000</td>\n",
       "      <td>8.780000</td>\n",
       "      <td>27.740000</td>\n",
       "    </tr>\n",
       "  </tbody>\n",
       "</table>\n",
       "</div>"
      ],
      "text/plain": [
       "             medv          rm       indus\n",
       "count  405.000000  405.000000  405.000000\n",
       "mean    22.506173    6.264746   11.114568\n",
       "std      9.192299    0.712511    6.724333\n",
       "min      5.000000    3.561000    0.460000\n",
       "25%     17.200000    5.875000    5.320000\n",
       "50%     21.000000    6.167000    9.690000\n",
       "75%     25.000000    6.606000   18.100000\n",
       "max     50.000000    8.780000   27.740000"
      ]
     },
     "execution_count": 9,
     "metadata": {},
     "output_type": "execute_result"
    }
   ],
   "source": [
    "DF[['medv', 'rm', 'indus']].describe()"
   ]
  },
  {
   "cell_type": "markdown",
   "id": "d25fe4a9",
   "metadata": {},
   "source": [
    "## Строим графики"
   ]
  },
  {
   "cell_type": "code",
   "execution_count": 10,
   "id": "c5758e05",
   "metadata": {},
   "outputs": [
    {
     "data": {
      "image/png": "[encoded data removed]",
      "text/plain": [
       "<Figure size 540x540 with 12 Axes>"
      ]
     },
     "metadata": {
      "needs_background": "light"
     },
     "output_type": "display_data"
    }
   ],
   "source": [
    "sns.pairplot(DF[['medv', 'rm', 'indus']])\n",
    "plt.show()"
   ]
  },
  {
   "cell_type": "markdown",
   "id": "69c8ac40",
   "metadata": {},
   "source": [
    "## Находим корреляционные матрицы"
   ]
  },
  {
   "cell_type": "code",
   "execution_count": 11,
   "id": "df4741e6",
   "metadata": {},
   "outputs": [
    {
     "data": {
      "text/html": [
       "<style  type=\"text/css\" >\n",
       "#T_26d4d236_e626_11ee_88db_f0a65401b602row0_col0,#T_26d4d236_e626_11ee_88db_f0a65401b602row1_col1,#T_26d4d236_e626_11ee_88db_f0a65401b602row2_col2{\n",
       "            background-color:  #b40426;\n",
       "            color:  #f1f1f1;\n",
       "        }#T_26d4d236_e626_11ee_88db_f0a65401b602row0_col1{\n",
       "            background-color:  #f29072;\n",
       "            color:  #000000;\n",
       "        }#T_26d4d236_e626_11ee_88db_f0a65401b602row0_col2,#T_26d4d236_e626_11ee_88db_f0a65401b602row2_col0,#T_26d4d236_e626_11ee_88db_f0a65401b602row2_col1{\n",
       "            background-color:  #3b4cc0;\n",
       "            color:  #f1f1f1;\n",
       "        }#T_26d4d236_e626_11ee_88db_f0a65401b602row1_col0{\n",
       "            background-color:  #f08b6e;\n",
       "            color:  #000000;\n",
       "        }#T_26d4d236_e626_11ee_88db_f0a65401b602row1_col2{\n",
       "            background-color:  #4961d2;\n",
       "            color:  #f1f1f1;\n",
       "        }</style><table id=\"T_26d4d236_e626_11ee_88db_f0a65401b602\" ><thead>    <tr>        <th class=\"blank level0\" ></th>        <th class=\"col_heading level0 col0\" >medv</th>        <th class=\"col_heading level0 col1\" >rm</th>        <th class=\"col_heading level0 col2\" >indus</th>    </tr></thead><tbody>\n",
       "                <tr>\n",
       "                        <th id=\"T_26d4d236_e626_11ee_88db_f0a65401b602level0_row0\" class=\"row_heading level0 row0\" >medv</th>\n",
       "                        <td id=\"T_26d4d236_e626_11ee_88db_f0a65401b602row0_col0\" class=\"data row0 col0\" >1.00</td>\n",
       "                        <td id=\"T_26d4d236_e626_11ee_88db_f0a65401b602row0_col1\" class=\"data row0 col1\" >0.68</td>\n",
       "                        <td id=\"T_26d4d236_e626_11ee_88db_f0a65401b602row0_col2\" class=\"data row0 col2\" >-0.45</td>\n",
       "            </tr>\n",
       "            <tr>\n",
       "                        <th id=\"T_26d4d236_e626_11ee_88db_f0a65401b602level0_row1\" class=\"row_heading level0 row1\" >rm</th>\n",
       "                        <td id=\"T_26d4d236_e626_11ee_88db_f0a65401b602row1_col0\" class=\"data row1 col0\" >0.68</td>\n",
       "                        <td id=\"T_26d4d236_e626_11ee_88db_f0a65401b602row1_col1\" class=\"data row1 col1\" >1.00</td>\n",
       "                        <td id=\"T_26d4d236_e626_11ee_88db_f0a65401b602row1_col2\" class=\"data row1 col2\" >-0.38</td>\n",
       "            </tr>\n",
       "            <tr>\n",
       "                        <th id=\"T_26d4d236_e626_11ee_88db_f0a65401b602level0_row2\" class=\"row_heading level0 row2\" >indus</th>\n",
       "                        <td id=\"T_26d4d236_e626_11ee_88db_f0a65401b602row2_col0\" class=\"data row2 col0\" >-0.45</td>\n",
       "                        <td id=\"T_26d4d236_e626_11ee_88db_f0a65401b602row2_col1\" class=\"data row2 col1\" >-0.38</td>\n",
       "                        <td id=\"T_26d4d236_e626_11ee_88db_f0a65401b602row2_col2\" class=\"data row2 col2\" >1.00</td>\n",
       "            </tr>\n",
       "    </tbody></table>"
      ],
      "text/plain": [
       "<pandas.io.formats.style.Styler at 0x28d8508d668>"
      ]
     },
     "execution_count": 11,
     "metadata": {},
     "output_type": "execute_result"
    }
   ],
   "source": [
    "# корреляционная матрица по всем наблюдениям\n",
    "corr_mat = DF[['medv', 'rm', 'indus']].corr()\n",
    "corr_mat.style.background_gradient(cmap='coolwarm').set_precision(2)"
   ]
  },
  {
   "cell_type": "code",
   "execution_count": 12,
   "id": "5647278e",
   "metadata": {},
   "outputs": [
    {
     "data": {
      "text/html": [
       "<style  type=\"text/css\" >\n",
       "#T_26d69070_e626_11ee_80bf_f0a65401b602row0_col0,#T_26d69070_e626_11ee_80bf_f0a65401b602row1_col1,#T_26d69070_e626_11ee_80bf_f0a65401b602row2_col2{\n",
       "            background-color:  #b40426;\n",
       "            color:  #f1f1f1;\n",
       "        }#T_26d69070_e626_11ee_80bf_f0a65401b602row0_col1{\n",
       "            background-color:  #bed2f6;\n",
       "            color:  #000000;\n",
       "        }#T_26d69070_e626_11ee_80bf_f0a65401b602row0_col2{\n",
       "            background-color:  #3d50c3;\n",
       "            color:  #f1f1f1;\n",
       "        }#T_26d69070_e626_11ee_80bf_f0a65401b602row1_col0{\n",
       "            background-color:  #bcd2f7;\n",
       "            color:  #000000;\n",
       "        }#T_26d69070_e626_11ee_80bf_f0a65401b602row1_col2,#T_26d69070_e626_11ee_80bf_f0a65401b602row2_col0,#T_26d69070_e626_11ee_80bf_f0a65401b602row2_col1{\n",
       "            background-color:  #3b4cc0;\n",
       "            color:  #f1f1f1;\n",
       "        }</style><table id=\"T_26d69070_e626_11ee_80bf_f0a65401b602\" ><thead>    <tr>        <th class=\"blank level0\" ></th>        <th class=\"col_heading level0 col0\" >medv</th>        <th class=\"col_heading level0 col1\" >rm</th>        <th class=\"col_heading level0 col2\" >indus</th>    </tr></thead><tbody>\n",
       "                <tr>\n",
       "                        <th id=\"T_26d69070_e626_11ee_80bf_f0a65401b602level0_row0\" class=\"row_heading level0 row0\" >medv</th>\n",
       "                        <td id=\"T_26d69070_e626_11ee_80bf_f0a65401b602row0_col0\" class=\"data row0 col0\" >1.00</td>\n",
       "                        <td id=\"T_26d69070_e626_11ee_80bf_f0a65401b602row0_col1\" class=\"data row0 col1\" >0.33</td>\n",
       "                        <td id=\"T_26d69070_e626_11ee_80bf_f0a65401b602row0_col2\" class=\"data row0 col2\" >-0.10</td>\n",
       "            </tr>\n",
       "            <tr>\n",
       "                        <th id=\"T_26d69070_e626_11ee_80bf_f0a65401b602level0_row1\" class=\"row_heading level0 row1\" >rm</th>\n",
       "                        <td id=\"T_26d69070_e626_11ee_80bf_f0a65401b602row1_col0\" class=\"data row1 col0\" >0.33</td>\n",
       "                        <td id=\"T_26d69070_e626_11ee_80bf_f0a65401b602row1_col1\" class=\"data row1 col1\" >1.00</td>\n",
       "                        <td id=\"T_26d69070_e626_11ee_80bf_f0a65401b602row1_col2\" class=\"data row1 col2\" >-0.11</td>\n",
       "            </tr>\n",
       "            <tr>\n",
       "                        <th id=\"T_26d69070_e626_11ee_80bf_f0a65401b602level0_row2\" class=\"row_heading level0 row2\" >indus</th>\n",
       "                        <td id=\"T_26d69070_e626_11ee_80bf_f0a65401b602row2_col0\" class=\"data row2 col0\" >-0.10</td>\n",
       "                        <td id=\"T_26d69070_e626_11ee_80bf_f0a65401b602row2_col1\" class=\"data row2 col1\" >-0.11</td>\n",
       "                        <td id=\"T_26d69070_e626_11ee_80bf_f0a65401b602row2_col2\" class=\"data row2 col2\" >1.00</td>\n",
       "            </tr>\n",
       "    </tbody></table>"
      ],
      "text/plain": [
       "<pandas.io.formats.style.Styler at 0x28d8513c588>"
      ]
     },
     "execution_count": 12,
     "metadata": {},
     "output_type": "execute_result"
    }
   ],
   "source": [
    "# корреляционная матрица по принадлежности к классу\n",
    "corr_mat = DF.loc[DF['tax_over_400'] == 1][['medv', 'rm', 'indus']].corr()\n",
    "corr_mat.style.background_gradient(cmap='coolwarm').set_precision(2)"
   ]
  },
  {
   "cell_type": "code",
   "execution_count": 13,
   "id": "d577b33c",
   "metadata": {},
   "outputs": [
    {
     "data": {
      "text/html": [
       "<style  type=\"text/css\" >\n",
       "#T_26d89c46_e626_11ee_9a6a_f0a65401b602row0_col0,#T_26d89c46_e626_11ee_9a6a_f0a65401b602row1_col1,#T_26d89c46_e626_11ee_9a6a_f0a65401b602row2_col2{\n",
       "            background-color:  #b40426;\n",
       "            color:  #f1f1f1;\n",
       "        }#T_26d89c46_e626_11ee_9a6a_f0a65401b602row0_col1,#T_26d89c46_e626_11ee_9a6a_f0a65401b602row1_col0{\n",
       "            background-color:  #cf453c;\n",
       "            color:  #f1f1f1;\n",
       "        }#T_26d89c46_e626_11ee_9a6a_f0a65401b602row0_col2,#T_26d89c46_e626_11ee_9a6a_f0a65401b602row1_col2,#T_26d89c46_e626_11ee_9a6a_f0a65401b602row2_col0,#T_26d89c46_e626_11ee_9a6a_f0a65401b602row2_col1{\n",
       "            background-color:  #3b4cc0;\n",
       "            color:  #f1f1f1;\n",
       "        }</style><table id=\"T_26d89c46_e626_11ee_9a6a_f0a65401b602\" ><thead>    <tr>        <th class=\"blank level0\" ></th>        <th class=\"col_heading level0 col0\" >medv</th>        <th class=\"col_heading level0 col1\" >rm</th>        <th class=\"col_heading level0 col2\" >indus</th>    </tr></thead><tbody>\n",
       "                <tr>\n",
       "                        <th id=\"T_26d89c46_e626_11ee_9a6a_f0a65401b602level0_row0\" class=\"row_heading level0 row0\" >medv</th>\n",
       "                        <td id=\"T_26d89c46_e626_11ee_9a6a_f0a65401b602row0_col0\" class=\"data row0 col0\" >1.00</td>\n",
       "                        <td id=\"T_26d89c46_e626_11ee_9a6a_f0a65401b602row0_col1\" class=\"data row0 col1\" >0.90</td>\n",
       "                        <td id=\"T_26d89c46_e626_11ee_9a6a_f0a65401b602row0_col2\" class=\"data row0 col2\" >-0.39</td>\n",
       "            </tr>\n",
       "            <tr>\n",
       "                        <th id=\"T_26d89c46_e626_11ee_9a6a_f0a65401b602level0_row1\" class=\"row_heading level0 row1\" >rm</th>\n",
       "                        <td id=\"T_26d89c46_e626_11ee_9a6a_f0a65401b602row1_col0\" class=\"data row1 col0\" >0.90</td>\n",
       "                        <td id=\"T_26d89c46_e626_11ee_9a6a_f0a65401b602row1_col1\" class=\"data row1 col1\" >1.00</td>\n",
       "                        <td id=\"T_26d89c46_e626_11ee_9a6a_f0a65401b602row1_col2\" class=\"data row1 col2\" >-0.39</td>\n",
       "            </tr>\n",
       "            <tr>\n",
       "                        <th id=\"T_26d89c46_e626_11ee_9a6a_f0a65401b602level0_row2\" class=\"row_heading level0 row2\" >indus</th>\n",
       "                        <td id=\"T_26d89c46_e626_11ee_9a6a_f0a65401b602row2_col0\" class=\"data row2 col0\" >-0.39</td>\n",
       "                        <td id=\"T_26d89c46_e626_11ee_9a6a_f0a65401b602row2_col1\" class=\"data row2 col1\" >-0.39</td>\n",
       "                        <td id=\"T_26d89c46_e626_11ee_9a6a_f0a65401b602row2_col2\" class=\"data row2 col2\" >1.00</td>\n",
       "            </tr>\n",
       "    </tbody></table>"
      ],
      "text/plain": [
       "<pandas.io.formats.style.Styler at 0x28d8513c550>"
      ]
     },
     "execution_count": 13,
     "metadata": {},
     "output_type": "execute_result"
    }
   ],
   "source": [
    "# корреляционная матрица по не принадлежности к классу\n",
    "corr_mat = DF.loc[DF['tax_over_400'] == 0][['medv', 'rm', 'indus']].corr()\n",
    "corr_mat.style.background_gradient(cmap='coolwarm').set_precision(2)"
   ]
  },
  {
   "cell_type": "code",
   "execution_count": 14,
   "id": "73c42dde",
   "metadata": {},
   "outputs": [
    {
     "name": "stdout",
     "output_type": "stream",
     "text": [
      "medv Statistics=0.91, p=0.0000\n",
      "Распределение не нормально (H0 отклоняется)\n",
      "\n"
     ]
    }
   ],
   "source": [
    "# тестируем на нормальность\n",
    "for col in ['medv']:\n",
    "    stat, p = shapiro(DF[col])\n",
    "    print(col, 'Statistics=%.2f, p=%.4f' % (stat, p))\n",
    "    # интерпретация\n",
    "    alpha = 0.05\n",
    "    if p > alpha:\n",
    "        print('Распределение нормально (H0 не отклоняется)\\n')\n",
    "    else:\n",
    "        print('Распределение не нормально (H0 отклоняется)\\n')\n",
    "#распределение не является нормальным"
   ]
  },
  {
   "cell_type": "code",
   "execution_count": 15,
   "id": "878ff380",
   "metadata": {},
   "outputs": [
    {
     "name": "stdout",
     "output_type": "stream",
     "text": [
      "log_medv Statistics=0.97, p=0.0000\n",
      "Распределение не нормально (H0 отклоняется)\n",
      "\n"
     ]
    }
   ],
   "source": [
    "# тестируем на нормальность после логарифмирования\n",
    "DF['log_medv'] = np.log(DF['medv'])\n",
    "for col in ['log_medv']:\n",
    "    stat, p = shapiro(DF[col])\n",
    "    print(col, 'Statistics=%.2f, p=%.4f' % (stat, p))\n",
    "    # интерпретация\n",
    "    alpha = 0.05\n",
    "    if p > alpha:\n",
    "        print('Распределение нормально (H0 не отклоняется)\\n')\n",
    "    else:\n",
    "        print('Распределение не нормально (H0 отклоняется)\\n')\n",
    "# распределение не является нормальным"
   ]
  },
  {
   "cell_type": "code",
   "execution_count": 16,
   "id": "c39f9147",
   "metadata": {},
   "outputs": [
    {
     "data": {
      "text/html": [
       "<div>\n",
       "<style scoped>\n",
       "    .dataframe tbody tr th:only-of-type {\n",
       "        vertical-align: middle;\n",
       "    }\n",
       "\n",
       "    .dataframe tbody tr th {\n",
       "        vertical-align: top;\n",
       "    }\n",
       "\n",
       "    .dataframe thead th {\n",
       "        text-align: right;\n",
       "    }\n",
       "</style>\n",
       "<table border=\"1\" class=\"dataframe\">\n",
       "  <thead>\n",
       "    <tr style=\"text-align: right;\">\n",
       "      <th></th>\n",
       "      <th>medv</th>\n",
       "      <th>log_medv</th>\n",
       "      <th>rm</th>\n",
       "      <th>indus</th>\n",
       "    </tr>\n",
       "  </thead>\n",
       "  <tbody>\n",
       "    <tr>\n",
       "      <th>count</th>\n",
       "      <td>405.000000</td>\n",
       "      <td>405.000000</td>\n",
       "      <td>405.000000</td>\n",
       "      <td>405.000000</td>\n",
       "    </tr>\n",
       "    <tr>\n",
       "      <th>mean</th>\n",
       "      <td>22.506173</td>\n",
       "      <td>3.034439</td>\n",
       "      <td>6.264746</td>\n",
       "      <td>11.114568</td>\n",
       "    </tr>\n",
       "    <tr>\n",
       "      <th>std</th>\n",
       "      <td>9.192299</td>\n",
       "      <td>0.405088</td>\n",
       "      <td>0.712511</td>\n",
       "      <td>6.724333</td>\n",
       "    </tr>\n",
       "    <tr>\n",
       "      <th>min</th>\n",
       "      <td>5.000000</td>\n",
       "      <td>1.609438</td>\n",
       "      <td>3.561000</td>\n",
       "      <td>0.460000</td>\n",
       "    </tr>\n",
       "    <tr>\n",
       "      <th>25%</th>\n",
       "      <td>17.200000</td>\n",
       "      <td>2.844909</td>\n",
       "      <td>5.875000</td>\n",
       "      <td>5.320000</td>\n",
       "    </tr>\n",
       "    <tr>\n",
       "      <th>50%</th>\n",
       "      <td>21.000000</td>\n",
       "      <td>3.044522</td>\n",
       "      <td>6.167000</td>\n",
       "      <td>9.690000</td>\n",
       "    </tr>\n",
       "    <tr>\n",
       "      <th>75%</th>\n",
       "      <td>25.000000</td>\n",
       "      <td>3.218876</td>\n",
       "      <td>6.606000</td>\n",
       "      <td>18.100000</td>\n",
       "    </tr>\n",
       "    <tr>\n",
       "      <th>max</th>\n",
       "      <td>50.000000</td>\n",
       "      <td>3.912023</td>\n",
       "      <td>8.780000</td>\n",
       "      <td>27.740000</td>\n",
       "    </tr>\n",
       "  </tbody>\n",
       "</table>\n",
       "</div>"
      ],
      "text/plain": [
       "             medv    log_medv          rm       indus\n",
       "count  405.000000  405.000000  405.000000  405.000000\n",
       "mean    22.506173    3.034439    6.264746   11.114568\n",
       "std      9.192299    0.405088    0.712511    6.724333\n",
       "min      5.000000    1.609438    3.561000    0.460000\n",
       "25%     17.200000    2.844909    5.875000    5.320000\n",
       "50%     21.000000    3.044522    6.167000    9.690000\n",
       "75%     25.000000    3.218876    6.606000   18.100000\n",
       "max     50.000000    3.912023    8.780000   27.740000"
      ]
     },
     "execution_count": 16,
     "metadata": {},
     "output_type": "execute_result"
    }
   ],
   "source": [
    "DF[['medv', 'log_medv', 'rm', 'indus']].describe()"
   ]
  },
  {
   "cell_type": "code",
   "execution_count": 17,
   "id": "b8a858e3",
   "metadata": {},
   "outputs": [
    {
     "data": {
      "text/html": [
       "<style  type=\"text/css\" >\n",
       "#T_26ded326_e626_11ee_beff_f0a65401b602row0_col0,#T_26ded326_e626_11ee_beff_f0a65401b602row1_col1,#T_26ded326_e626_11ee_beff_f0a65401b602row2_col2{\n",
       "            background-color:  #b40426;\n",
       "            color:  #f1f1f1;\n",
       "        }#T_26ded326_e626_11ee_beff_f0a65401b602row0_col1{\n",
       "            background-color:  #bbd1f8;\n",
       "            color:  #000000;\n",
       "        }#T_26ded326_e626_11ee_beff_f0a65401b602row0_col2,#T_26ded326_e626_11ee_beff_f0a65401b602row2_col0,#T_26ded326_e626_11ee_beff_f0a65401b602row2_col1{\n",
       "            background-color:  #3b4cc0;\n",
       "            color:  #f1f1f1;\n",
       "        }#T_26ded326_e626_11ee_beff_f0a65401b602row1_col0{\n",
       "            background-color:  #c3d5f4;\n",
       "            color:  #000000;\n",
       "        }#T_26ded326_e626_11ee_beff_f0a65401b602row1_col2{\n",
       "            background-color:  #465ecf;\n",
       "            color:  #f1f1f1;\n",
       "        }</style><table id=\"T_26ded326_e626_11ee_beff_f0a65401b602\" ><thead>    <tr>        <th class=\"blank level0\" ></th>        <th class=\"col_heading level0 col0\" >log_medv</th>        <th class=\"col_heading level0 col1\" >rm</th>        <th class=\"col_heading level0 col2\" >indus</th>    </tr></thead><tbody>\n",
       "                <tr>\n",
       "                        <th id=\"T_26ded326_e626_11ee_beff_f0a65401b602level0_row0\" class=\"row_heading level0 row0\" >log_medv</th>\n",
       "                        <td id=\"T_26ded326_e626_11ee_beff_f0a65401b602row0_col0\" class=\"data row0 col0\" >1.00</td>\n",
       "                        <td id=\"T_26ded326_e626_11ee_beff_f0a65401b602row0_col1\" class=\"data row0 col1\" >0.32</td>\n",
       "                        <td id=\"T_26ded326_e626_11ee_beff_f0a65401b602row0_col2\" class=\"data row0 col2\" >-0.16</td>\n",
       "            </tr>\n",
       "            <tr>\n",
       "                        <th id=\"T_26ded326_e626_11ee_beff_f0a65401b602level0_row1\" class=\"row_heading level0 row1\" >rm</th>\n",
       "                        <td id=\"T_26ded326_e626_11ee_beff_f0a65401b602row1_col0\" class=\"data row1 col0\" >0.32</td>\n",
       "                        <td id=\"T_26ded326_e626_11ee_beff_f0a65401b602row1_col1\" class=\"data row1 col1\" >1.00</td>\n",
       "                        <td id=\"T_26ded326_e626_11ee_beff_f0a65401b602row1_col2\" class=\"data row1 col2\" >-0.11</td>\n",
       "            </tr>\n",
       "            <tr>\n",
       "                        <th id=\"T_26ded326_e626_11ee_beff_f0a65401b602level0_row2\" class=\"row_heading level0 row2\" >indus</th>\n",
       "                        <td id=\"T_26ded326_e626_11ee_beff_f0a65401b602row2_col0\" class=\"data row2 col0\" >-0.16</td>\n",
       "                        <td id=\"T_26ded326_e626_11ee_beff_f0a65401b602row2_col1\" class=\"data row2 col1\" >-0.11</td>\n",
       "                        <td id=\"T_26ded326_e626_11ee_beff_f0a65401b602row2_col2\" class=\"data row2 col2\" >1.00</td>\n",
       "            </tr>\n",
       "    </tbody></table>"
      ],
      "text/plain": [
       "<pandas.io.formats.style.Styler at 0x28d84dc3588>"
      ]
     },
     "execution_count": 17,
     "metadata": {},
     "output_type": "execute_result"
    }
   ],
   "source": [
    "# Далее проделываем такие же действия после логорифимирования\n",
    "corr_mat = DF.loc[DF['tax_over_400'] == 1][['log_medv', 'rm', 'indus']].corr()\n",
    "corr_mat.style.background_gradient(cmap='coolwarm').set_precision(2)"
   ]
  },
  {
   "cell_type": "code",
   "execution_count": 18,
   "id": "73557f30",
   "metadata": {
    "scrolled": true
   },
   "outputs": [
    {
     "data": {
      "text/html": [
       "<style  type=\"text/css\" >\n",
       "#T_26e0b83a_e626_11ee_aa90_f0a65401b602row0_col0,#T_26e0b83a_e626_11ee_aa90_f0a65401b602row1_col1,#T_26e0b83a_e626_11ee_aa90_f0a65401b602row2_col2{\n",
       "            background-color:  #b40426;\n",
       "            color:  #f1f1f1;\n",
       "        }#T_26e0b83a_e626_11ee_aa90_f0a65401b602row0_col1,#T_26e0b83a_e626_11ee_aa90_f0a65401b602row1_col0{\n",
       "            background-color:  #d44e41;\n",
       "            color:  #000000;\n",
       "        }#T_26e0b83a_e626_11ee_aa90_f0a65401b602row0_col2,#T_26e0b83a_e626_11ee_aa90_f0a65401b602row1_col2,#T_26e0b83a_e626_11ee_aa90_f0a65401b602row2_col0,#T_26e0b83a_e626_11ee_aa90_f0a65401b602row2_col1{\n",
       "            background-color:  #3b4cc0;\n",
       "            color:  #f1f1f1;\n",
       "        }</style><table id=\"T_26e0b83a_e626_11ee_aa90_f0a65401b602\" ><thead>    <tr>        <th class=\"blank level0\" ></th>        <th class=\"col_heading level0 col0\" >log_medv</th>        <th class=\"col_heading level0 col1\" >rm</th>        <th class=\"col_heading level0 col2\" >indus</th>    </tr></thead><tbody>\n",
       "                <tr>\n",
       "                        <th id=\"T_26e0b83a_e626_11ee_aa90_f0a65401b602level0_row0\" class=\"row_heading level0 row0\" >log_medv</th>\n",
       "                        <td id=\"T_26e0b83a_e626_11ee_aa90_f0a65401b602row0_col0\" class=\"data row0 col0\" >1.00</td>\n",
       "                        <td id=\"T_26e0b83a_e626_11ee_aa90_f0a65401b602row0_col1\" class=\"data row0 col1\" >0.87</td>\n",
       "                        <td id=\"T_26e0b83a_e626_11ee_aa90_f0a65401b602row0_col2\" class=\"data row0 col2\" >-0.39</td>\n",
       "            </tr>\n",
       "            <tr>\n",
       "                        <th id=\"T_26e0b83a_e626_11ee_aa90_f0a65401b602level0_row1\" class=\"row_heading level0 row1\" >rm</th>\n",
       "                        <td id=\"T_26e0b83a_e626_11ee_aa90_f0a65401b602row1_col0\" class=\"data row1 col0\" >0.87</td>\n",
       "                        <td id=\"T_26e0b83a_e626_11ee_aa90_f0a65401b602row1_col1\" class=\"data row1 col1\" >1.00</td>\n",
       "                        <td id=\"T_26e0b83a_e626_11ee_aa90_f0a65401b602row1_col2\" class=\"data row1 col2\" >-0.39</td>\n",
       "            </tr>\n",
       "            <tr>\n",
       "                        <th id=\"T_26e0b83a_e626_11ee_aa90_f0a65401b602level0_row2\" class=\"row_heading level0 row2\" >indus</th>\n",
       "                        <td id=\"T_26e0b83a_e626_11ee_aa90_f0a65401b602row2_col0\" class=\"data row2 col0\" >-0.39</td>\n",
       "                        <td id=\"T_26e0b83a_e626_11ee_aa90_f0a65401b602row2_col1\" class=\"data row2 col1\" >-0.39</td>\n",
       "                        <td id=\"T_26e0b83a_e626_11ee_aa90_f0a65401b602row2_col2\" class=\"data row2 col2\" >1.00</td>\n",
       "            </tr>\n",
       "    </tbody></table>"
      ],
      "text/plain": [
       "<pandas.io.formats.style.Styler at 0x28d85102b70>"
      ]
     },
     "execution_count": 18,
     "metadata": {},
     "output_type": "execute_result"
    }
   ],
   "source": [
    "corr_mat = DF.loc[DF['tax_over_400'] == 0][['log_medv', 'rm', 'indus']].corr()\n",
    "corr_mat.style.background_gradient(cmap='coolwarm').set_precision(2)"
   ]
  },
  {
   "cell_type": "markdown",
   "id": "7c2e3fbc",
   "metadata": {},
   "source": [
    "# Построение моделей регрессии\n",
    "По итогам предварительного анализа данных можно предложить следующие спецификации линейных регрессионных моделей:\n",
    "1. fit_lm_1: medv =  ^β0 + ^β1 ⋅ tax_over_400 + ^β2 ⋅ rm + ^β3 ⋅ indus\n",
    "2. fit_lm_2: medv =  ^β0 + ^β1 ⋅ tax_over_400 + ^β2 ⋅ rm ⋅ tax_over_400 + ^β3 ⋅ indus\n",
    "3. fit_lm_3: medv =  ^β0 + ^β1 ⋅ tax_over_400 + ^β2 ⋅ indus ⋅ tax_over_400 + ^β3 ⋅ rm\n",
    "4. fit_lm_4: medv =  ^β0 + ^β1 ⋅ tax_over_400 + ^β2 ⋅ indus ⋅ tax_over_400 + ^β3 ⋅ rm ⋅ tax_over_400\n",
    "5. fit_lm_1_log: то же, что fit_lm_1, но для зависимой log_charges\n",
    "6. fit_lm_2_log: то же, что fit_lm_2, но для зависимой log_charges\n",
    "7. fit_lm_3_log: то же, что fit_lm_3, но для зависимой log_charges\n",
    "8. fit_lm_4_log: то же, что fit_lm_4, но для зависимой log_charges"
   ]
  },
  {
   "cell_type": "markdown",
   "id": "a716e23b",
   "metadata": {},
   "source": [
    "## Обучение и интерпретация"
   ]
  },
  {
   "cell_type": "code",
   "execution_count": 19,
   "id": "44cb9ebc",
   "metadata": {},
   "outputs": [],
   "source": [
    "# Создаем матрицы значений объясняющих переменных (X) и вектора значений зависимой для всех моделей\n"
   ]
  },
  {
   "cell_type": "code",
   "execution_count": 20,
   "id": "35dbfd0d",
   "metadata": {},
   "outputs": [
    {
     "data": {
      "text/html": [
       "<div>\n",
       "<style scoped>\n",
       "    .dataframe tbody tr th:only-of-type {\n",
       "        vertical-align: middle;\n",
       "    }\n",
       "\n",
       "    .dataframe tbody tr th {\n",
       "        vertical-align: top;\n",
       "    }\n",
       "\n",
       "    .dataframe thead th {\n",
       "        text-align: right;\n",
       "    }\n",
       "</style>\n",
       "<table border=\"1\" class=\"dataframe\">\n",
       "  <thead>\n",
       "    <tr style=\"text-align: right;\">\n",
       "      <th></th>\n",
       "      <th>medv</th>\n",
       "      <th>rm</th>\n",
       "      <th>indus</th>\n",
       "      <th>tax_over_400</th>\n",
       "    </tr>\n",
       "  </thead>\n",
       "  <tbody>\n",
       "    <tr>\n",
       "      <th>105</th>\n",
       "      <td>19.5</td>\n",
       "      <td>5.851</td>\n",
       "      <td>8.56</td>\n",
       "      <td>0</td>\n",
       "    </tr>\n",
       "    <tr>\n",
       "      <th>26</th>\n",
       "      <td>16.6</td>\n",
       "      <td>5.813</td>\n",
       "      <td>8.14</td>\n",
       "      <td>0</td>\n",
       "    </tr>\n",
       "    <tr>\n",
       "      <th>180</th>\n",
       "      <td>39.8</td>\n",
       "      <td>7.765</td>\n",
       "      <td>2.46</td>\n",
       "      <td>0</td>\n",
       "    </tr>\n",
       "    <tr>\n",
       "      <th>46</th>\n",
       "      <td>20.0</td>\n",
       "      <td>5.786</td>\n",
       "      <td>6.91</td>\n",
       "      <td>0</td>\n",
       "    </tr>\n",
       "    <tr>\n",
       "      <th>76</th>\n",
       "      <td>20.0</td>\n",
       "      <td>6.279</td>\n",
       "      <td>12.83</td>\n",
       "      <td>0</td>\n",
       "    </tr>\n",
       "  </tbody>\n",
       "</table>\n",
       "</div>"
      ],
      "text/plain": [
       "     medv     rm  indus  tax_over_400\n",
       "105  19.5  5.851   8.56             0\n",
       "26   16.6  5.813   8.14             0\n",
       "180  39.8  7.765   2.46             0\n",
       "46   20.0  5.786   6.91             0\n",
       "76   20.0  6.279  12.83             0"
      ]
     },
     "execution_count": 20,
     "metadata": {},
     "output_type": "execute_result"
    }
   ],
   "source": [
    "\n",
    "\n",
    "df1 = DF[['medv', 'rm', 'indus', 'tax_over_400']]\n",
    "\n",
    "df2 = DF[['medv', 'rm', 'indus', 'tax_over_400']]\n",
    "df2.loc[:, 'rm_tax_over_400'] = df2.loc[:, 'rm'] * df2.loc[:, 'tax_over_400']\n",
    "df2 = df2.drop(['rm'], axis = 1)\n",
    "\n",
    "df3 = DF[['medv', 'rm', 'indus', 'tax_over_400']]\n",
    "df3.loc[:, 'indus_tax_over_400'] = df3.loc[:, 'indus'] * df3.loc[:, 'tax_over_400']\n",
    "df3 = df3.drop(['indus'], axis = 1)\n",
    "\n",
    "df4 = DF[['medv', 'rm', 'indus', 'tax_over_400']]\n",
    "df4.loc[:, 'indus_tax_over_400'] = df4.loc[:, 'indus'] * df4.loc[:, 'tax_over_400']\n",
    "df4.loc[:, 'rm_tax_over_400'] = df4.loc[:, 'rm'] * df4.loc[:, 'tax_over_400']\n",
    "df4 = df4.drop(['indus', 'rm'], axis = 1)\n",
    "\n",
    "df1.head(5)\n"
   ]
  },
  {
   "cell_type": "code",
   "execution_count": 21,
   "id": "c6d9d1d1",
   "metadata": {},
   "outputs": [],
   "source": [
    "# построим модели от всех объясняющих переменных на всех наблюдениях DF, чтобы проинтерпретировать параметры. В модели для зависимой переменной charges интерпретация стандартная\n"
   ]
  },
  {
   "cell_type": "code",
   "execution_count": 22,
   "id": "0239acb8",
   "metadata": {},
   "outputs": [
    {
     "name": "stdout",
     "output_type": "stream",
     "text": [
      "модель fit_lm_1:\n",
      " константа  [-23.188] \n",
      " объясняющие  ['rm', 'indus', 'tax_over_400'] \n",
      " коэффициенты  [[ 7.76  -0.193 -1.957]]\n"
     ]
    }
   ],
   "source": [
    "# модель 1\n",
    "lm = skl_lm.LinearRegression()\n",
    "x = df1.drop(['medv'], axis = 1)\n",
    "y = df1.medv.values.reshape(-1, 1)\n",
    "fit_lm_1 = lm.fit(x, y)\n",
    "print('модель fit_lm_1:\\n',\n",
    "'константа ', np.around(fit_lm_1.intercept_, 3),\n",
    "'\\n объясняющие ', list(x.columns.values),\n",
    "'\\n коэффициенты ', np.around(fit_lm_1.coef_, 3))"
   ]
  },
  {
   "cell_type": "code",
   "execution_count": 23,
   "id": "4397b803",
   "metadata": {},
   "outputs": [
    {
     "data": {
      "text/plain": [
       "array([40.82802326])"
      ]
     },
     "execution_count": 23,
     "metadata": {},
     "output_type": "execute_result"
    }
   ],
   "source": [
    "y_pred = fit_lm_1.predict(x)\n",
    "MSE = sum((y - y_pred.reshape(-1, 1))**2) / len(y)\n",
    "MSE"
   ]
  },
  {
   "cell_type": "code",
   "execution_count": 24,
   "id": "6eb16a8b",
   "metadata": {},
   "outputs": [
    {
     "name": "stdout",
     "output_type": "stream",
     "text": [
      "модель fit_lm_2:\n",
      " константа  [28.882] \n",
      " объясняющие  ['indus', 'tax_over_400', 'rm_tax_over_400'] \n",
      " коэффициенты  [[ -0.519 -25.126   3.917]]\n"
     ]
    }
   ],
   "source": [
    "# модель 2\n",
    "lm = skl_lm.LinearRegression()\n",
    "x = df2.drop(['medv'], axis = 1)\n",
    "y = df2.medv.values.reshape(-1, 1)\n",
    "fit_lm_2 = lm.fit(x, y)\n",
    "print('модель fit_lm_2:\\n',\n",
    "'константа ', np.around(fit_lm_2.intercept_, 3),\n",
    "'\\n объясняющие ', list(x.columns.values),\n",
    "'\\n коэффициенты ', np.around(fit_lm_2.coef_, 3))"
   ]
  },
  {
   "cell_type": "code",
   "execution_count": 25,
   "id": "75962cc0",
   "metadata": {},
   "outputs": [
    {
     "data": {
      "text/plain": [
       "array([63.96606649])"
      ]
     },
     "execution_count": 25,
     "metadata": {},
     "output_type": "execute_result"
    }
   ],
   "source": [
    "y_pred = fit_lm_2.predict(x)\n",
    "MSE = sum((y - y_pred.reshape(-1, 1))**2) / len(y)\n",
    "MSE"
   ]
  },
  {
   "cell_type": "code",
   "execution_count": 26,
   "id": "02334831",
   "metadata": {},
   "outputs": [
    {
     "name": "stdout",
     "output_type": "stream",
     "text": [
      "модель fit_lm_3:\n",
      " константа  [-26.426] \n",
      " объясняющие  ['rm', 'tax_over_400', 'indus_tax_over_400'] \n",
      " коэффициенты  [[ 8.058 -2.695 -0.071]]\n"
     ]
    }
   ],
   "source": [
    "# модель 3 \n",
    "lm = skl_lm.LinearRegression()\n",
    "x = df3.drop(['medv'], axis = 1)\n",
    "y = df3.medv.values.reshape(-1, 1)\n",
    "fit_lm_3 = lm.fit(x, y)\n",
    "print('модель fit_lm_3:\\n',\n",
    "'константа ', np.around(fit_lm_3.intercept_, 3),\n",
    "'\\n объясняющие ', list(x.columns.values),\n",
    "'\\n коэффициенты ', np.around(fit_lm_3.coef_, 3))"
   ]
  },
  {
   "cell_type": "code",
   "execution_count": 27,
   "id": "976f1348",
   "metadata": {},
   "outputs": [
    {
     "data": {
      "text/plain": [
       "array([41.3724093])"
      ]
     },
     "execution_count": 27,
     "metadata": {},
     "output_type": "execute_result"
    }
   ],
   "source": [
    "y_pred = fit_lm_3.predict(x)\n",
    "MSE = sum((y - y_pred.reshape(-1, 1))**2) / len(y)\n",
    "MSE"
   ]
  },
  {
   "cell_type": "code",
   "execution_count": 28,
   "id": "752738f0",
   "metadata": {},
   "outputs": [
    {
     "name": "stdout",
     "output_type": "stream",
     "text": [
      "модель fit_lm_3:\n",
      " константа  [25.336] \n",
      " объясняющие  ['tax_over_400', 'indus_tax_over_400', 'rm_tax_over_400'] \n",
      " коэффициенты  [[-29.823  -0.142   4.177]]\n"
     ]
    }
   ],
   "source": [
    "# модель 4 \n",
    "lm = skl_lm.LinearRegression()\n",
    "x = df4.drop(['medv'], axis = 1)\n",
    "y = df4.medv.values.reshape(-1, 1)\n",
    "fit_lm_4 = lm.fit(x, y)\n",
    "print('модель fit_lm_3:\\n',\n",
    "'константа ', np.around(fit_lm_4.intercept_, 3),\n",
    "'\\n объясняющие ', list(x.columns.values),\n",
    "'\\n коэффициенты ', np.around(fit_lm_4.coef_, 3))"
   ]
  },
  {
   "cell_type": "code",
   "execution_count": 29,
   "id": "cc916e23",
   "metadata": {},
   "outputs": [
    {
     "data": {
      "text/plain": [
       "array([68.3104826])"
      ]
     },
     "execution_count": 29,
     "metadata": {},
     "output_type": "execute_result"
    }
   ],
   "source": [
    "y_pred = fit_lm_4.predict(x)\n",
    "MSE = sum((y - y_pred.reshape(-1, 1))**2) / len(y)\n",
    "MSE"
   ]
  },
  {
   "cell_type": "markdown",
   "id": "ff4884ce",
   "metadata": {},
   "source": [
    "# Модель на логорифмах\n",
    "Далее построим модели на логарифмах\n"
   ]
  },
  {
   "cell_type": "code",
   "execution_count": 30,
   "id": "cf68afce",
   "metadata": {},
   "outputs": [
    {
     "name": "stdout",
     "output_type": "stream",
     "text": [
      "модель fit_lm_1_log:\n",
      " константа  [1.414] \n",
      " объясняющие  ['rm', 'indus', 'tax_over_400'] \n",
      " коэффициенты  [[ 0.287 -0.01  -0.163]]\n"
     ]
    }
   ],
   "source": [
    "# Модель 5\n",
    "x = df1.drop(['medv'], axis=1)\n",
    "y = np.log(df1.medv).values.reshape(-1, 1)\n",
    "fit_lm_1_log = lm.fit(x, y)\n",
    "print('модель fit_lm_1_log:\\n',\n",
    "'константа ', np.around(fit_lm_1_log.intercept_, 3),\n",
    "'\\n объясняющие ', list(x.columns.values),\n",
    "'\\n коэффициенты ', np.around(fit_lm_1_log.coef_, 3))"
   ]
  },
  {
   "cell_type": "code",
   "execution_count": 31,
   "id": "7525129c",
   "metadata": {},
   "outputs": [
    {
     "data": {
      "text/plain": [
       "array([[ 33.2,  -1. , -15. ]])"
      ]
     },
     "execution_count": 31,
     "metadata": {},
     "output_type": "execute_result"
    }
   ],
   "source": [
    "# пересчет константы и коэффициентов для интерпритации\n",
    "np.round(np.exp(fit_lm_1_log.intercept_), 1)\n",
    "np.round((np.exp(fit_lm_1_log.coef_) - 1) * 100, 1)\n",
    "\n"
   ]
  },
  {
   "cell_type": "code",
   "execution_count": 32,
   "id": "d600cc50",
   "metadata": {},
   "outputs": [
    {
     "data": {
      "text/plain": [
       "array([37.27490282])"
      ]
     },
     "execution_count": 32,
     "metadata": {},
     "output_type": "execute_result"
    }
   ],
   "source": [
    "# оцениваем MSE\n",
    "y_pred = fit_lm_1_log.predict(x)\n",
    "MSE_log = sum((np.exp(y) - np.exp(y_pred).reshape(-1, 1))**2) / len(y)\n",
    "MSE_log"
   ]
  },
  {
   "cell_type": "code",
   "execution_count": 33,
   "id": "15006fec",
   "metadata": {},
   "outputs": [
    {
     "name": "stdout",
     "output_type": "stream",
     "text": [
      "MSE_train модели для medv меньше MSE_train модели для log(medv) в  [0.5] раз\n"
     ]
    }
   ],
   "source": [
    "print('MSE_train модели для medv меньше MSE_train',\n",
    "'модели для log(medv) в ', np.around(MSE_log / MSE, 1), 'раз')"
   ]
  },
  {
   "cell_type": "code",
   "execution_count": 34,
   "id": "64a165dc",
   "metadata": {},
   "outputs": [
    {
     "name": "stdout",
     "output_type": "stream",
     "text": [
      "модель fit_lm_2_log:\n",
      " константа  [3.338] \n",
      " объясняющие  ['indus', 'tax_over_400', 'rm_tax_over_400'] \n",
      " коэффициенты  [[-0.022 -1.264  0.185]]\n"
     ]
    }
   ],
   "source": [
    "# Модель 6\n",
    "x = df2.drop(['medv'], axis=1)\n",
    "y = np.log(df2.medv).values.reshape(-1, 1)\n",
    "fit_lm_2_log = lm.fit(x, y)\n",
    "print('модель fit_lm_2_log:\\n',\n",
    "'константа ', np.around(fit_lm_2_log.intercept_, 3),\n",
    "'\\n объясняющие ', list(x.columns.values),\n",
    "'\\n коэффициенты ', np.around(fit_lm_2_log.coef_, 3))"
   ]
  },
  {
   "cell_type": "code",
   "execution_count": 35,
   "id": "d3bdee98",
   "metadata": {},
   "outputs": [
    {
     "data": {
      "text/plain": [
       "array([[ -2.2, -71.8,  20.3]])"
      ]
     },
     "execution_count": 35,
     "metadata": {},
     "output_type": "execute_result"
    }
   ],
   "source": [
    "np.round(np.exp(fit_lm_2_log.intercept_), 1)\n",
    "np.round((np.exp(fit_lm_2_log.coef_) - 1) * 100, 1)"
   ]
  },
  {
   "cell_type": "code",
   "execution_count": 36,
   "id": "56704633",
   "metadata": {},
   "outputs": [
    {
     "data": {
      "text/plain": [
       "array([64.40697984])"
      ]
     },
     "execution_count": 36,
     "metadata": {},
     "output_type": "execute_result"
    }
   ],
   "source": [
    "y_pred = fit_lm_2_log.predict(x)\n",
    "MSE_log = sum((np.exp(y) - np.exp(y_pred).reshape(-1, 1))**2) / len(y)\n",
    "MSE_log\n"
   ]
  },
  {
   "cell_type": "code",
   "execution_count": 37,
   "id": "6cf1562a",
   "metadata": {},
   "outputs": [
    {
     "name": "stdout",
     "output_type": "stream",
     "text": [
      "MSE_train модели для medv меньше MSE_train модели для log(medv) в  [0.9] раз\n"
     ]
    }
   ],
   "source": [
    "print('MSE_train модели для medv меньше MSE_train',\n",
    "'модели для log(medv) в ', np.around(MSE_log / MSE, 1), 'раз')"
   ]
  },
  {
   "cell_type": "code",
   "execution_count": 38,
   "id": "7009ca40",
   "metadata": {},
   "outputs": [
    {
     "name": "stdout",
     "output_type": "stream",
     "text": [
      "модель fit_lm3_log:\n",
      " константа  [1.255] \n",
      " объясняющие  ['rm', 'tax_over_400', 'indus_tax_over_400'] \n",
      " коэффициенты  [[ 0.301 -0.075 -0.011]]\n"
     ]
    }
   ],
   "source": [
    "# Модель 7\n",
    "x = df3.drop(['medv'], axis=1)\n",
    "y = np.log(df3.medv).values.reshape(-1, 1)\n",
    "fit_lm_3_log = lm.fit(x, y)\n",
    "print('модель fit_lm3_log:\\n',\n",
    "'константа ', np.around(fit_lm_3_log.intercept_, 3),\n",
    "'\\n объясняющие ', list(x.columns.values),\n",
    "'\\n коэффициенты ', np.around(fit_lm_3_log.coef_, 3))"
   ]
  },
  {
   "cell_type": "code",
   "execution_count": 39,
   "id": "f4ec8db9",
   "metadata": {},
   "outputs": [
    {
     "data": {
      "text/plain": [
       "array([[35.1, -7.2, -1.1]])"
      ]
     },
     "execution_count": 39,
     "metadata": {},
     "output_type": "execute_result"
    }
   ],
   "source": [
    "np.round(np.exp(fit_lm_3_log.intercept_), 1)\n",
    "np.round((np.exp(fit_lm_3_log.coef_) - 1) * 100, 1)"
   ]
  },
  {
   "cell_type": "code",
   "execution_count": 40,
   "id": "34d6bc6e",
   "metadata": {},
   "outputs": [
    {
     "data": {
      "text/plain": [
       "array([37.82146506])"
      ]
     },
     "execution_count": 40,
     "metadata": {},
     "output_type": "execute_result"
    }
   ],
   "source": [
    "y_pred = fit_lm_3_log.predict(x)\n",
    "MSE_log = sum((np.exp(y) - np.exp(y_pred).reshape(-1, 1))**2) / len(y)\n",
    "MSE_log\n"
   ]
  },
  {
   "cell_type": "code",
   "execution_count": 41,
   "id": "d89a8363",
   "metadata": {},
   "outputs": [
    {
     "name": "stdout",
     "output_type": "stream",
     "text": [
      "MSE_train модели для medv меньше MSE_train модели для log(medv) в  [0.6] раз\n"
     ]
    }
   ],
   "source": [
    "print('MSE_train модели для medv меньше MSE_train',\n",
    "'модели для log(medv) в ', np.around(MSE_log / MSE, 1), 'раз')"
   ]
  },
  {
   "cell_type": "code",
   "execution_count": 42,
   "id": "d7838327",
   "metadata": {},
   "outputs": [
    {
     "name": "stdout",
     "output_type": "stream",
     "text": [
      "модель fit_lm3_log:\n",
      " константа  [3.188] \n",
      " объясняющие  ['tax_over_400', 'indus_tax_over_400', 'rm_tax_over_400'] \n",
      " коэффициенты  [[-1.311 -0.013  0.191]]\n"
     ]
    }
   ],
   "source": [
    "# Модель 8\n",
    "x = df4.drop(['medv'], axis=1)\n",
    "y = np.log(df4.medv).values.reshape(-1, 1)\n",
    "fit_lm_4_log = lm.fit(x, y)\n",
    "print('модель fit_lm3_log:\\n',\n",
    "'константа ', np.around(fit_lm_4_log.intercept_, 3),\n",
    "'\\n объясняющие ', list(x.columns.values),\n",
    "'\\n коэффициенты ', np.around(fit_lm_4_log.coef_, 3))"
   ]
  },
  {
   "cell_type": "code",
   "execution_count": 43,
   "id": "0f6178b3",
   "metadata": {},
   "outputs": [
    {
     "data": {
      "text/plain": [
       "array([[-73.1,  -1.3,  21.1]])"
      ]
     },
     "execution_count": 43,
     "metadata": {},
     "output_type": "execute_result"
    }
   ],
   "source": [
    "np.round(np.exp(fit_lm_4_log.intercept_), 1)\n",
    "np.round((np.exp(fit_lm_4_log.coef_) - 1) * 100, 1)"
   ]
  },
  {
   "cell_type": "code",
   "execution_count": 44,
   "id": "b81fddf8",
   "metadata": {},
   "outputs": [
    {
     "data": {
      "text/plain": [
       "array([69.76254812])"
      ]
     },
     "execution_count": 44,
     "metadata": {},
     "output_type": "execute_result"
    }
   ],
   "source": [
    "y_pred = fit_lm_4_log.predict(x)\n",
    "MSE_log = sum((np.exp(y) - np.exp(y_pred).reshape(-1, 1))**2) / len(y)\n",
    "MSE_log\n"
   ]
  },
  {
   "cell_type": "code",
   "execution_count": 45,
   "id": "bf23587a",
   "metadata": {},
   "outputs": [
    {
     "name": "stdout",
     "output_type": "stream",
     "text": [
      "MSE_train модели для medv меньше MSE_train модели для log(medv) в  [1.] раз\n"
     ]
    }
   ],
   "source": [
    "print('MSE_train модели для medv меньше MSE_train',\n",
    "'модели для log(medv) в ', np.around(MSE_log / MSE, 1), 'раз')"
   ]
  },
  {
   "cell_type": "markdown",
   "id": "0a2d3bd1",
   "metadata": {},
   "source": [
    "# Оценка точности\n",
    "## LOOCV\n",
    "Сделаем перекрёстную проверку точности моделей по одному наблюдению."
   ]
  },
  {
   "cell_type": "code",
   "execution_count": 46,
   "id": "e11c6ba3",
   "metadata": {},
   "outputs": [
    {
     "name": "stdout",
     "output_type": "stream",
     "text": [
      "Расчёты методом LOOCV заняли 4.30 секунд\n"
     ]
    }
   ],
   "source": [
    "# модели для y\n",
    "# LeaveOneOut CV\n",
    "loo = LeaveOneOut()\n",
    "# модели для y\n",
    "scores = list()\n",
    "# таймер\n",
    "tic = time.perf_counter()\n",
    "for df in [df1, df2, df3, df4] :\n",
    "    loo.get_n_splits(df)\n",
    "    x = df.drop(['medv'], axis=1)\n",
    "    y = df.medv\n",
    "    score = cross_val_score(lm, x, y, cv=loo, scoring='neg_mean_squared_error').mean()\n",
    "    scores.append(score)\n",
    "# таймер\n",
    "toc = time.perf_counter()\n",
    "print(f\"Расчёты методом LOOCV заняли {toc - tic:0.2f} секунд\")"
   ]
  },
  {
   "cell_type": "code",
   "execution_count": 47,
   "id": "032490f7",
   "metadata": {},
   "outputs": [
    {
     "name": "stdout",
     "output_type": "stream",
     "text": [
      "Расчёты методом LOOCV заняли 4.30 секунд\n"
     ]
    }
   ],
   "source": [
    "# модели для y_log\n",
    "scores_log = list()\n",
    "# таймер\n",
    "tic = time.perf_counter()\n",
    "for df in [df1, df2, df3, df4] :\n",
    "    loo.get_n_splits(df)\n",
    "    x = df.drop(['medv'], axis=1)\n",
    "    y = np.log(df.medv)\n",
    "    score = cross_val_score(lm, x, y, cv=loo, n_jobs=1, scoring='neg_mean_squared_error').mean()\n",
    "    scores_log.append(score)\n",
    "# таймер\n",
    "toc = time.perf_counter()\n",
    "print(f\"Расчёты методом LOOCV заняли {toc - tic:0.2f} секунд\")"
   ]
  },
  {
   "cell_type": "markdown",
   "id": "83a8f27f",
   "metadata": {},
   "source": [
    "Сравним ошибки для моделей на исходных значениях, с ошибками моделей на логарифме"
   ]
  },
  {
   "cell_type": "code",
   "execution_count": 48,
   "id": "72c85c91",
   "metadata": {},
   "outputs": [
    {
     "data": {
      "text/plain": [
       "[42.01, 65.8, 42.53, 70.07]"
      ]
     },
     "execution_count": 48,
     "metadata": {},
     "output_type": "execute_result"
    }
   ],
   "source": [
    "[np.around(-x,2) for x in scores]"
   ]
  },
  {
   "cell_type": "code",
   "execution_count": 49,
   "id": "dc174a1a",
   "metadata": {},
   "outputs": [
    {
     "data": {
      "text/plain": [
       "[0.085, 0.115, 0.085, 0.122]"
      ]
     },
     "execution_count": 49,
     "metadata": {},
     "output_type": "execute_result"
    }
   ],
   "source": [
    "[np.around(-x, 3) for x in scores_log]"
   ]
  },
  {
   "cell_type": "markdown",
   "id": "9a227c3e",
   "metadata": {},
   "source": [
    "Очевидно что данные оценки между собой сравнивать нельзя, тогда проведем процедуру оценки на логарифме и без него"
   ]
  },
  {
   "cell_type": "code",
   "execution_count": 50,
   "id": "69206b69",
   "metadata": {},
   "outputs": [
    {
     "name": "stdout",
     "output_type": "stream",
     "text": [
      "Наименьшая ошибка на тестовой с LOOCV у модели fit_lm_1 :\n",
      "MSE_loocv = 42.0\n"
     ]
    }
   ],
   "source": [
    "# без логарифма\n",
    "fits = ['fit_lm_1', 'fit_lm_2', 'fit_lm_3', 'fit_lm_4']\n",
    "print('Наименьшая ошибка на тестовой с LOOCV у модели', fits[scores.index(max(scores))], ':\\nMSE_loocv =', np.around(-max(scores), 0))"
   ]
  },
  {
   "cell_type": "code",
   "execution_count": 51,
   "id": "a7dd56d4",
   "metadata": {},
   "outputs": [
    {
     "name": "stdout",
     "output_type": "stream",
     "text": [
      "Наименьшая ошибка на тестовой с LOOCV у модели fit_lm_1_log :\n",
      "MSE_loocv = 0.085\n"
     ]
    }
   ],
   "source": [
    "# с логарифмом\n",
    "fits = ['fit_lm_1_log', 'fit_lm_2_log',\n",
    "'fit_lm_3_log', 'fit_lm_4_log']\n",
    "print('Наименьшая ошибка на тестовой с LOOCV у модели',\n",
    "fits[scores_log.index(max(scores_log))],\n",
    "':\\nMSE_loocv =', np.around(-max(scores_log), 3))"
   ]
  },
  {
   "cell_type": "markdown",
   "id": "6fba8a77",
   "metadata": {},
   "source": [
    "Перекрёстная проверка по блокам"
   ]
  },
  {
   "cell_type": "code",
   "execution_count": 52,
   "id": "69c4a4e9",
   "metadata": {},
   "outputs": [
    {
     "name": "stdout",
     "output_type": "stream",
     "text": [
      "Расчёты методом CV по 10 блокам заняли 0.12 секунд\n"
     ]
    }
   ],
   "source": [
    "# Перекрёстная проверка по 10 блокам\n",
    "folds = 10\n",
    "# ядра для разбиений перекрёстной проверкой\n",
    "r_state = np.arange(my_seed, my_seed + 9)\n",
    "# модели для y\n",
    "scores = list()\n",
    "# таймер\n",
    "tic = time.perf_counter()\n",
    "i = 0\n",
    "for df in [df1, df2, df3, df4] :\n",
    "    x = df.drop(['medv'], axis=1)\n",
    "    y = df.medv\n",
    "    kf_10 = KFold(n_splits=folds, random_state=r_state[i],\n",
    "        shuffle=True)\n",
    "    score = cross_val_score(lm, x, y, cv=kf_10,\n",
    "            scoring='neg_mean_squared_error').mean()\n",
    "    scores.append(score)\n",
    "    i+=1\n",
    "# таймер\n",
    "toc = time.perf_counter()\n",
    "print(f\"Расчёты методом CV по 10 блокам заняли {toc - tic:0.2f} секунд\")"
   ]
  },
  {
   "cell_type": "code",
   "execution_count": 53,
   "id": "b1d603aa",
   "metadata": {},
   "outputs": [
    {
     "name": "stdout",
     "output_type": "stream",
     "text": [
      "Расчёты методом CV по 10 блокам заняли 0.11 секунд\n"
     ]
    }
   ],
   "source": [
    "# Перекрёстная проверка по 10 блокам\n",
    "folds = 10\n",
    "# ядра для разбиений перекрёстной проверкой\n",
    "r_state = np.arange(my_seed, my_seed + 9)\n",
    "# модели для y\n",
    "scores_log = list()\n",
    "# таймер\n",
    "tic = time.perf_counter()\n",
    "i = 0\n",
    "for df in [df1, df2, df3, df4] :\n",
    "    x = df.drop(['medv'], axis=1)\n",
    "    y = df.medv\n",
    "    kf_10 = KFold(n_splits=folds, random_state=r_state[i],\n",
    "        shuffle=True)\n",
    "    score = cross_val_score(lm, x, y, cv=kf_10,\n",
    "            scoring='neg_mean_squared_error').mean()\n",
    "    scores_log.append(score)\n",
    "    i+=1\n",
    "# таймер\n",
    "toc = time.perf_counter()\n",
    "print(f\"Расчёты методом CV по 10 блокам заняли {toc - tic:0.2f} секунд\")"
   ]
  },
  {
   "cell_type": "code",
   "execution_count": 54,
   "id": "1e23ee35",
   "metadata": {},
   "outputs": [
    {
     "name": "stdout",
     "output_type": "stream",
     "text": [
      "Наименьшая ошибка на тестовой с k-fold10 у модели fit_lm_1 :\n",
      "MSE_kf10 = 42.0\n"
     ]
    }
   ],
   "source": [
    "# самая точная на charges\n",
    "fits = ['fit_lm_1', 'fit_lm_2', 'fit_lm_3', 'fit_lm_4']\n",
    "print('Наименьшая ошибка на тестовой с k-fold10 у модели',\n",
    "fits[scores.index(max(scores))],\n",
    "':\\nMSE_kf10 =', np.around(-max(scores), 0))"
   ]
  },
  {
   "cell_type": "code",
   "execution_count": 55,
   "id": "fac7e75b",
   "metadata": {},
   "outputs": [
    {
     "name": "stdout",
     "output_type": "stream",
     "text": [
      "Наименьшая ошибка на тестовой с k-fold10 у модели fit_lm_1_log :\n",
      "MSE_kf10 = 42.222\n"
     ]
    }
   ],
   "source": [
    "# самая точная на log(charges)\n",
    "fits = ['fit_lm_1_log', 'fit_lm_2_log',\n",
    "'fit_lm_3_log', 'fit_lm_4_log']\n",
    "print('Наименьшая ошибка на тестовой с k-fold10 у модели',\n",
    "fits[scores_log.index(max(scores_log))],\n",
    "':\\nMSE_kf10 =', np.around(-max(scores_log), 3))"
   ]
  },
  {
   "cell_type": "markdown",
   "id": "7362251a",
   "metadata": {},
   "source": [
    "Самой точной среди моделей для medv оказалась fit_lm_1 , а среди моделей для\n",
    "medv_log – fit_lm_1_log . Оценим точность прогноза по этим моделям на отложенные\n",
    "наблюдения."
   ]
  },
  {
   "cell_type": "code",
   "execution_count": 56,
   "id": "2b45118c",
   "metadata": {},
   "outputs": [
    {
     "name": "stdout",
     "output_type": "stream",
     "text": [
      "MSE модели fit_lm_1 на отложенных наблюдениях = 30.68\n"
     ]
    }
   ],
   "source": [
    "# прогноз по fit_lm_1\n",
    "# модель на всех обучающих наблюдениях\n",
    "x = df1.drop(['medv'], axis=1)\n",
    "y = df1.medv.values.reshape(-1, 1)\n",
    "fit_lm_1 = lm.fit(x, y)\n",
    "# значения y на отложенных наблюдениях\n",
    "y = DF_predict[['medv']].values.reshape(-1, 1)\n",
    "# матрица объясняющих на отложенных наблюдениях\n",
    "x = DF_predict[['rm', 'indus', 'tax_over_400']]\n",
    "# прогнозы\n",
    "y_pred = fit_lm_1.predict(x)\n",
    "# ошибка\n",
    "MSE = sum((y - y_pred.reshape(-1, 1))**2) / len(y)\n",
    "print('MSE модели fit_lm_1 на отложенных наблюдениях = %.2f' % MSE)"
   ]
  },
  {
   "cell_type": "code",
   "execution_count": 57,
   "id": "6730d4bc",
   "metadata": {},
   "outputs": [
    {
     "name": "stdout",
     "output_type": "stream",
     "text": [
      "MSE модели fit_lm_1 на отложенных наблюдениях = 464.20\n"
     ]
    }
   ],
   "source": [
    "# прогноз по fit_lm_log_1\n",
    "# модель на всех обучающих наблюдениях\n",
    "x = df1.drop(['medv'], axis=1)\n",
    "y = np.log(df1.medv).values.reshape(-1, 1)\n",
    "fit_lm_1 = lm.fit(x, y)\n",
    "# значения y на отложенных наблюдениях\n",
    "y = DF_predict[['medv']].values.reshape(-1, 1)\n",
    "# матрица объясняющих на отложенных наблюдениях\n",
    "x = DF_predict[['rm', 'indus', 'tax_over_400']]\n",
    "# прогнозы\n",
    "y_pred = fit_lm_1.predict(x)\n",
    "# ошибка\n",
    "MSE = sum((y - y_pred.reshape(-1, 1))**2) / len(y)\n",
    "print('MSE модели fit_lm_1 на отложенных наблюдениях = %.2f' % MSE)"
   ]
  },
  {
   "cell_type": "markdown",
   "id": "21ccb72f",
   "metadata": {},
   "source": [
    "Очевидно, что самой лучшей является модель fit_lm_1\n",
    "## Прогноз на отложенные наблюдения по лучшей модели\n",
    "\n"
   ]
  },
  {
   "cell_type": "code",
   "execution_count": 58,
   "id": "50f43d5b",
   "metadata": {},
   "outputs": [
    {
     "name": "stdout",
     "output_type": "stream",
     "text": [
      "Ошибка модели на отложенных наблюдениях составила 95.2% от среднего значения Y\n"
     ]
    }
   ],
   "source": [
    "print('Ошибка модели на отложенных наблюдениях составила ',\n",
    "np.around(np.sqrt(MSE) / np.mean(y) * 100, 1)[0],\n",
    "'% от среднего значения Y',\n",
    "sep='')"
   ]
  },
  {
   "cell_type": "markdown",
   "id": "3347e423",
   "metadata": {},
   "source": [
    "Вывод: Наилучшей моделью является fit_lm_1 \n",
    "1. fit_lm_1: medv =  ^β0 + ^β1 ⋅ tax_over_400 + ^β2 ⋅ rm + ^β3 ⋅ indus"
   ]
  },
  {
   "cell_type": "code",
   "execution_count": null,
   "id": "d058d587",
   "metadata": {},
   "outputs": [],
   "source": []
  }
 ],
 "metadata": {
  "kernelspec": {
   "display_name": "Python 3 (ipykernel)",
   "language": "python",
   "name": "python3"
  },
  "language_info": {
   "codemirror_mode": {
    "name": "ipython",
    "version": 3
   },
   "file_extension": ".py",
   "mimetype": "text/x-python",
   "name": "python",
   "nbconvert_exporter": "python",
   "pygments_lexer": "ipython3",
   "version": "3.11.7"
  }
 },
 "nbformat": 4,
 "nbformat_minor": 5
}
