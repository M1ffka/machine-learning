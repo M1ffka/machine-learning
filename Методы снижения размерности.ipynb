{
 "cells": [
  {
   "cell_type": "markdown",
   "id": "973df943",
   "metadata": {},
   "source": [
    "# Загружаем пакеты"
   ]
  },
  {
   "cell_type": "code",
   "execution_count": 1,
   "id": "321f24a8",
   "metadata": {},
   "outputs": [],
   "source": [
    "# загрузка пакетов: инструменты --------------------------------------------\n",
    "# работа с массивами\n",
    "import numpy as np\n",
    "# фреймы данных\n",
    "import pandas as pd\n",
    "# распределение Стьюдента для проверки значимости\n",
    "from scipy.stats import t\n",
    "# подсчёт частот внутри массива\n",
    "from collections import Counter\n",
    "# графики\n",
    "import matplotlib as mpl\n",
    "# стили и шаблоны графиков на основе matplotlib\n",
    "import seaborn as sns\n",
    "# загрузка пакетов: данные -------------------------------------------------\n",
    "from sklearn import datasets\n",
    "\n",
    "# загрузка пакетов: модели -------------------------------------------------\n",
    "# стандартизация показателей\n",
    "from sklearn.preprocessing import StandardScaler\n",
    "# метод главных компонент\n",
    "from sklearn.decomposition import PCA\n",
    "# метод частных наименьших квадратов\n",
    "from sklearn.cross_decomposition import PLSRegression\n",
    "# логистическая регрессия (ММП)\n",
    "from sklearn.linear_model import LogisticRegression, LogisticRegressionCV\n",
    "# перекрёстная проверка по k блокам\n",
    "from sklearn.model_selection import KFold, cross_val_score\n",
    "# расчёт Acc и сводка по точности классификации\n",
    "from sklearn.metrics import accuracy_score, classification_report"
   ]
  },
  {
   "cell_type": "code",
   "execution_count": 2,
   "id": "7eeaf486",
   "metadata": {},
   "outputs": [],
   "source": [
    "# константы\n",
    "# ядро для генератора случайных чисел\n",
    "my_seed = 9212\n",
    "# создаём псевдоним для короткого обращения к графикам\n",
    "plt = mpl.pyplot\n",
    "# настройка стиля и отображения графиков\n",
    "# примеры стилей и шаблонов графиков:\n",
    "# http://tonysyu.github.io/raw_content/matplotlib-style-gallery/gallery.html\n",
    "mpl.style.use('seaborn-whitegrid')\n",
    "sns.set_palette(\"Set2\")\n",
    "# раскомментируйте следующую строку, чтобы посмотреть палитру\n",
    "# sns.color_palette(\"Set2\")"
   ]
  },
  {
   "cell_type": "code",
   "execution_count": 3,
   "id": "7ba30817",
   "metadata": {},
   "outputs": [],
   "source": [
    "# функция, которая строит график сжатия коэффициентов в ридж и лассо\n",
    "# из репозитория к книге С.Рашки Python и машинное обучение,\n",
    "# слегка переработанная\n",
    "def plot_coeffs_traces (X, y, class_number, penalty_name, C_opt, col_names,\n",
    "                        C_min_pow=-4, C_max_pow=3.) :\n",
    "    fig = plt.figure()\n",
    "    ax = plt.subplot(111)\n",
    "    # палитра\n",
    "    colors = sns.color_palette(\"Spectral\", len(col_names)-1)\n",
    "    \n",
    "    weights, params = [], []\n",
    "    for c in np.arange(C_min_pow, C_max_pow+1):\n",
    "        lr = LogisticRegression(penalty=penalty_name,\n",
    "                                C=10.**c, solver='liblinear',\n",
    "                                multi_class='ovr', random_state=my_seed)\n",
    "        lr.fit(X, y)\n",
    "        weights.append(lr.coef_[class_number])\n",
    "        params.append(10**c)\n",
    "    weights = np.array(weights)\n",
    "    for column, color in zip(range(weights.shape[1]), colors):\n",
    "    \n",
    "        plt.plot(params, weights[:, column],\n",
    "                 label=col_names[column],\n",
    "                 color=color)\n",
    "    # отсечки по оптимальным C\n",
    "    plt.axvline(x=C_opt[class_number], color='magenta',\n",
    "                linestyle='--', linewidth=1)\n",
    "    plt.axhline(0, color='black', linestyle='--', linewidth=1)\n",
    "    plt.xlim([10**(C_min_pow), 10**C_max_pow])\n",
    "    plt.ylabel('weight coefficient')\n",
    "    plt.xlabel('C')\n",
    "    plt.xscale('log')\n",
    "    plt.legend(loc='upper left')\n",
    "    ax.legend(loc='upper center',\n",
    "              bbox_to_anchor=(1.38, 1.03),\n",
    "              ncol=1, fancybox=True)\n",
    "    plt.show()"
   ]
  },
  {
   "cell_type": "markdown",
   "id": "4cbbf08b",
   "metadata": {},
   "source": [
    "# Загружаем данные"
   ]
  },
  {
   "cell_type": "code",
   "execution_count": 110,
   "id": "da1b0ef5",
   "metadata": {},
   "outputs": [],
   "source": [
    "# загружаем таблицу\n",
    "url = \"https://raw.githubusercontent.com/aksyuk/MTML/main/Labs/data/winequality-red_for_lab.csv\"\n",
    "DF = pd.read_csv(url)\n",
    "# оставим в таблице только указанные переменные\n",
    "DF = DF.filter(items=['fixed_acidity', 'volatile_acidity', 'residual_sugar', 'chlorides', 'free_sulfur_dioxide', 'total_sulfur_dioxide', 'pH', 'sulphates', 'alcohol', 'Y'])\n"
   ]
  },
  {
   "cell_type": "markdown",
   "id": "df949def",
   "metadata": {},
   "source": [
    "Отложим 15% наблюдений для прогноза"
   ]
  },
  {
   "cell_type": "code",
   "execution_count": 111,
   "id": "b6d1fbbb",
   "metadata": {},
   "outputs": [],
   "source": [
    "# наблюдения для моделирования\n",
    "DF = DF.sample(frac = 0.85, random_state = my_seed)\n",
    "# отложенные наблюдения\n",
    "DF_predict = DF.drop(DF.index)"
   ]
  },
  {
   "cell_type": "code",
   "execution_count": 112,
   "id": "af7f6a9c",
   "metadata": {},
   "outputs": [
    {
     "data": {
      "text/plain": [
       "fixed_acidity           float64\n",
       "volatile_acidity        float64\n",
       "residual_sugar          float64\n",
       "chlorides               float64\n",
       "free_sulfur_dioxide     float64\n",
       "total_sulfur_dioxide    float64\n",
       "pH                      float64\n",
       "sulphates               float64\n",
       "alcohol                 float64\n",
       "Y                         int64\n",
       "dtype: object"
      ]
     },
     "execution_count": 112,
     "metadata": {},
     "output_type": "execute_result"
    }
   ],
   "source": [
    "# типы столбцов фрейма\n",
    "DF.dtypes"
   ]
  },
  {
   "cell_type": "markdown",
   "id": "19042ea1",
   "metadata": {},
   "source": [
    "### Проверим нет ли в таблице пропусков"
   ]
  },
  {
   "cell_type": "code",
   "execution_count": 113,
   "id": "6819c901",
   "metadata": {},
   "outputs": [
    {
     "data": {
      "text/plain": [
       "fixed_acidity           0\n",
       "volatile_acidity        0\n",
       "residual_sugar          0\n",
       "chlorides               0\n",
       "free_sulfur_dioxide     0\n",
       "total_sulfur_dioxide    0\n",
       "pH                      0\n",
       "sulphates               0\n",
       "alcohol                 0\n",
       "Y                       0\n",
       "dtype: int64"
      ]
     },
     "execution_count": 113,
     "metadata": {},
     "output_type": "execute_result"
    }
   ],
   "source": [
    "# считаем пропуски в каждом столбце\n",
    "DF.isna().sum()"
   ]
  },
  {
   "cell_type": "markdown",
   "id": "115fe64a",
   "metadata": {},
   "source": [
    "### Пропусков не обнаружено"
   ]
  },
  {
   "cell_type": "markdown",
   "id": "c1bf5e43",
   "metadata": {},
   "source": [
    "# Предварительный анализ данных"
   ]
  },
  {
   "cell_type": "markdown",
   "id": "ead05a03",
   "metadata": {},
   "source": [
    "## Описательные статистики"
   ]
  },
  {
   "cell_type": "markdown",
   "id": "4c2bee88",
   "metadata": {},
   "source": [
    "Считаем доли классов целевой переменной Y."
   ]
  },
  {
   "cell_type": "code",
   "execution_count": 114,
   "id": "529dfd03",
   "metadata": {},
   "outputs": [
    {
     "data": {
      "text/plain": [
       "array([1, 0], dtype=int64)"
      ]
     },
     "execution_count": 114,
     "metadata": {},
     "output_type": "execute_result"
    }
   ],
   "source": [
    "# метки классов\n",
    "DF.Y.unique()"
   ]
  },
  {
   "cell_type": "code",
   "execution_count": 115,
   "id": "18db2f15",
   "metadata": {},
   "outputs": [],
   "source": [
    "# доли классов"
   ]
  },
  {
   "cell_type": "code",
   "execution_count": 116,
   "id": "49329bbf",
   "metadata": {},
   "outputs": [
    {
     "data": {
      "text/plain": [
       "1    0.532\n",
       "0    0.468\n",
       "Name: Y, dtype: float64"
      ]
     },
     "execution_count": 116,
     "metadata": {},
     "output_type": "execute_result"
    }
   ],
   "source": [
    "np.around(DF.Y.value_counts() / len(DF.index), 3)"
   ]
  },
  {
   "cell_type": "markdown",
   "id": "b6bdb05d",
   "metadata": {},
   "source": [
    "### Итак, всего целевых классов два, и их доли примерно одинаковы, с перевесом в пользу класса '1'. Все объясняющие переменные набора данных непрерывные. Рассчитаем для них описательные статистики.\n"
   ]
  },
  {
   "cell_type": "code",
   "execution_count": 117,
   "id": "d3739472",
   "metadata": {},
   "outputs": [
    {
     "data": {
      "text/html": [
       "<div>\n",
       "<style scoped>\n",
       "    .dataframe tbody tr th:only-of-type {\n",
       "        vertical-align: middle;\n",
       "    }\n",
       "\n",
       "    .dataframe tbody tr th {\n",
       "        vertical-align: top;\n",
       "    }\n",
       "\n",
       "    .dataframe thead th {\n",
       "        text-align: right;\n",
       "    }\n",
       "</style>\n",
       "<table border=\"1\" class=\"dataframe\">\n",
       "  <thead>\n",
       "    <tr style=\"text-align: right;\">\n",
       "      <th></th>\n",
       "      <th>fixed_acidity</th>\n",
       "      <th>volatile_acidity</th>\n",
       "      <th>residual_sugar</th>\n",
       "      <th>chlorides</th>\n",
       "      <th>free_sulfur_dioxide</th>\n",
       "      <th>total_sulfur_dioxide</th>\n",
       "      <th>pH</th>\n",
       "      <th>sulphates</th>\n",
       "      <th>alcohol</th>\n",
       "      <th>Y</th>\n",
       "    </tr>\n",
       "  </thead>\n",
       "  <tbody>\n",
       "    <tr>\n",
       "      <th>count</th>\n",
       "      <td>1359.000000</td>\n",
       "      <td>1359.000000</td>\n",
       "      <td>1359.000000</td>\n",
       "      <td>1359.000000</td>\n",
       "      <td>1359.000000</td>\n",
       "      <td>1359.000000</td>\n",
       "      <td>1359.000000</td>\n",
       "      <td>1359.000000</td>\n",
       "      <td>1359.000000</td>\n",
       "      <td>1359.000000</td>\n",
       "    </tr>\n",
       "    <tr>\n",
       "      <th>mean</th>\n",
       "      <td>8.337013</td>\n",
       "      <td>0.527792</td>\n",
       "      <td>2.554746</td>\n",
       "      <td>0.087676</td>\n",
       "      <td>15.866078</td>\n",
       "      <td>46.738779</td>\n",
       "      <td>3.308219</td>\n",
       "      <td>0.658661</td>\n",
       "      <td>10.403557</td>\n",
       "      <td>0.532009</td>\n",
       "    </tr>\n",
       "    <tr>\n",
       "      <th>std</th>\n",
       "      <td>1.756618</td>\n",
       "      <td>0.177531</td>\n",
       "      <td>1.450287</td>\n",
       "      <td>0.048260</td>\n",
       "      <td>10.634496</td>\n",
       "      <td>33.416700</td>\n",
       "      <td>0.153734</td>\n",
       "      <td>0.172279</td>\n",
       "      <td>1.067067</td>\n",
       "      <td>0.499158</td>\n",
       "    </tr>\n",
       "    <tr>\n",
       "      <th>min</th>\n",
       "      <td>4.600000</td>\n",
       "      <td>0.120000</td>\n",
       "      <td>0.900000</td>\n",
       "      <td>0.012000</td>\n",
       "      <td>1.000000</td>\n",
       "      <td>6.000000</td>\n",
       "      <td>2.740000</td>\n",
       "      <td>0.330000</td>\n",
       "      <td>8.400000</td>\n",
       "      <td>0.000000</td>\n",
       "    </tr>\n",
       "    <tr>\n",
       "      <th>25%</th>\n",
       "      <td>7.100000</td>\n",
       "      <td>0.392500</td>\n",
       "      <td>1.900000</td>\n",
       "      <td>0.070000</td>\n",
       "      <td>7.000000</td>\n",
       "      <td>22.000000</td>\n",
       "      <td>3.210000</td>\n",
       "      <td>0.550000</td>\n",
       "      <td>9.500000</td>\n",
       "      <td>0.000000</td>\n",
       "    </tr>\n",
       "    <tr>\n",
       "      <th>50%</th>\n",
       "      <td>7.900000</td>\n",
       "      <td>0.520000</td>\n",
       "      <td>2.200000</td>\n",
       "      <td>0.079000</td>\n",
       "      <td>13.000000</td>\n",
       "      <td>38.000000</td>\n",
       "      <td>3.310000</td>\n",
       "      <td>0.620000</td>\n",
       "      <td>10.100000</td>\n",
       "      <td>1.000000</td>\n",
       "    </tr>\n",
       "    <tr>\n",
       "      <th>75%</th>\n",
       "      <td>9.200000</td>\n",
       "      <td>0.640000</td>\n",
       "      <td>2.600000</td>\n",
       "      <td>0.090000</td>\n",
       "      <td>21.000000</td>\n",
       "      <td>63.000000</td>\n",
       "      <td>3.400000</td>\n",
       "      <td>0.730000</td>\n",
       "      <td>11.033333</td>\n",
       "      <td>1.000000</td>\n",
       "    </tr>\n",
       "    <tr>\n",
       "      <th>max</th>\n",
       "      <td>15.900000</td>\n",
       "      <td>1.580000</td>\n",
       "      <td>15.500000</td>\n",
       "      <td>0.611000</td>\n",
       "      <td>72.000000</td>\n",
       "      <td>289.000000</td>\n",
       "      <td>4.010000</td>\n",
       "      <td>2.000000</td>\n",
       "      <td>14.900000</td>\n",
       "      <td>1.000000</td>\n",
       "    </tr>\n",
       "  </tbody>\n",
       "</table>\n",
       "</div>"
      ],
      "text/plain": [
       "       fixed_acidity  volatile_acidity  residual_sugar    chlorides  \\\n",
       "count    1359.000000       1359.000000     1359.000000  1359.000000   \n",
       "mean        8.337013          0.527792        2.554746     0.087676   \n",
       "std         1.756618          0.177531        1.450287     0.048260   \n",
       "min         4.600000          0.120000        0.900000     0.012000   \n",
       "25%         7.100000          0.392500        1.900000     0.070000   \n",
       "50%         7.900000          0.520000        2.200000     0.079000   \n",
       "75%         9.200000          0.640000        2.600000     0.090000   \n",
       "max        15.900000          1.580000       15.500000     0.611000   \n",
       "\n",
       "       free_sulfur_dioxide  total_sulfur_dioxide           pH    sulphates  \\\n",
       "count          1359.000000           1359.000000  1359.000000  1359.000000   \n",
       "mean             15.866078             46.738779     3.308219     0.658661   \n",
       "std              10.634496             33.416700     0.153734     0.172279   \n",
       "min               1.000000              6.000000     2.740000     0.330000   \n",
       "25%               7.000000             22.000000     3.210000     0.550000   \n",
       "50%              13.000000             38.000000     3.310000     0.620000   \n",
       "75%              21.000000             63.000000     3.400000     0.730000   \n",
       "max              72.000000            289.000000     4.010000     2.000000   \n",
       "\n",
       "           alcohol            Y  \n",
       "count  1359.000000  1359.000000  \n",
       "mean     10.403557     0.532009  \n",
       "std       1.067067     0.499158  \n",
       "min       8.400000     0.000000  \n",
       "25%       9.500000     0.000000  \n",
       "50%      10.100000     1.000000  \n",
       "75%      11.033333     1.000000  \n",
       "max      14.900000     1.000000  "
      ]
     },
     "execution_count": 117,
     "metadata": {},
     "output_type": "execute_result"
    }
   ],
   "source": [
    "DF.describe()"
   ]
  },
  {
   "cell_type": "markdown",
   "id": "caf3d3c7",
   "metadata": {},
   "source": [
    "### Выводы по описательным статистикам: значения объясняющих переменных положительные, масштабы измерения отличаются. Для работы с методами снижения размерности и регуляризации понадобится стандартизация значений.\n",
    "\n",
    " "
   ]
  },
  {
   "cell_type": "markdown",
   "id": "20dbedd8",
   "metadata": {},
   "source": [
    "## Визуализация разброса переменных внутри классов"
   ]
  },
  {
   "cell_type": "markdown",
   "id": "2db62a6c",
   "metadata": {},
   "source": [
    "Построим коробчатые диаграммы для объясняющих переменных, чтобы сравнить средние уровни и разброс по классам.\n"
   ]
  },
  {
   "cell_type": "code",
   "execution_count": 118,
   "id": "421544e1",
   "metadata": {},
   "outputs": [
    {
     "data": {
      "image/png": "[encoded data removed]",
      "text/plain": [
       "<Figure size 864x360 with 5 Axes>"
      ]
     },
     "metadata": {},
     "output_type": "display_data"
    }
   ],
   "source": [
    "fig = plt.figure(figsize=(12, 5))\n",
    "gs = mpl.gridspec.GridSpec(1, 5)\n",
    "ax1 = plt.subplot(gs[0, 0])\n",
    "ax2 = plt.subplot(gs[0, 1])\n",
    "ax3 = plt.subplot(gs[0, 2])\n",
    "ax4 = plt.subplot(gs[0, 3])\n",
    "ax5 = plt.subplot(gs[0, 4])\n",
    "\n",
    "axs = [ax1, ax2, ax3, ax4, ax5]\n",
    "\n",
    "cols_loop = list(DF.columns[1:6].values)\n",
    "for col_name in cols_loop :\n",
    "    i = cols_loop.index(col_name)\n",
    "    sns.boxplot(x='Y', y=col_name, data=DF, ax=axs[i])\n",
    "    axs[i].set_ylabel(col_name)\n",
    "    axs[i].set_title(col_name)\n",
    "\n",
    "# корректируем расположение графиков на полотне\n",
    "gs.tight_layout(plt.gcf())\n",
    "plt.show()"
   ]
  },
  {
   "cell_type": "code",
   "execution_count": 119,
   "id": "2bd0bcb3",
   "metadata": {},
   "outputs": [
    {
     "data": {
      "image/png": "[encoded data removed]",
      "text/plain": [
       "<Figure size 864x360 with 4 Axes>"
      ]
     },
     "metadata": {},
     "output_type": "display_data"
    }
   ],
   "source": [
    "\n",
    "fig = plt.figure(figsize=(12, 5))\n",
    "gs = mpl.gridspec.GridSpec(1, 5)\n",
    "ax1 = plt.subplot(gs[0, 0])\n",
    "ax2 = plt.subplot(gs[0, 1])\n",
    "ax3 = plt.subplot(gs[0, 2])\n",
    "ax4 = plt.subplot(gs[0, 3])\n",
    "\n",
    "axs = [ax1, ax2, ax3, ax4]\n",
    "\n",
    "cols_loop = list(DF.columns[6:10].values)\n",
    "for col_name in cols_loop :\n",
    "    i = cols_loop.index(col_name)\n",
    "    sns.boxplot(x='Y', y=col_name, data=DF, ax=axs[i])\n",
    "    axs[i].set_ylabel(col_name)\n",
    "    axs[i].set_title(col_name)\n",
    "    \n",
    "# корректируем расположение графиков на полотне\n",
    "gs.tight_layout(plt.gcf())\n",
    "plt.show()"
   ]
  },
  {
   "cell_type": "markdown",
   "id": "72dd1af4",
   "metadata": {},
   "source": [
    "На графиках отличие в медианах и разбросе между классами прослеживается в нескольких классах.\n",
    "Больше всего различаются коробчатые диаграммы по\n",
    "переменной alcohol . Это говорит о том, классы по зависимой переменной Y плохо\n",
    "разделяются по всем объясняющим переменным. Также присутствует большое количество выбросов"
   ]
  },
  {
   "cell_type": "markdown",
   "id": "a4419f6b",
   "metadata": {},
   "source": [
    "## Корреляционный анализ"
   ]
  },
  {
   "cell_type": "markdown",
   "id": "172458c2",
   "metadata": {},
   "source": [
    "Теперь посмотрим на взаимодействие объясняющих переменных."
   ]
  },
  {
   "cell_type": "code",
   "execution_count": 120,
   "id": "7a1280fa",
   "metadata": {},
   "outputs": [
    {
     "data": {
      "image/png": "[encoded data removed]",
      "text/plain": [
       "<Figure size 720x576 with 2 Axes>"
      ]
     },
     "metadata": {},
     "output_type": "display_data"
    }
   ],
   "source": [
    "# рассчитываем корреляционную матрицу\n",
    "corr_mat = DF.drop('Y', axis=1).corr()\n",
    "col_names = DF.drop('Y', axis=1).columns\n",
    "# переключаем стиль оформления, чтобы убрать сетку с тепловой карты\n",
    "mpl.style.use('seaborn-white')\n",
    "# рисуем корреляционную матрицу\n",
    "f = plt.figure(figsize=(10, 8))\n",
    "plt.matshow(corr_mat, fignum=f.number, cmap='PiYG')\n",
    "# координаты для названий строк и столбцов\n",
    "tics_coords = np.arange(0, len(col_names))\n",
    "# рисуем подписи\n",
    "plt.xticks(tics_coords, col_names, fontsize=14, rotation=90)\n",
    "plt.yticks(tics_coords, col_names, fontsize=14)\n",
    "# настраиваем легенду справа от тепловой карты\n",
    "cb = plt.colorbar()\n",
    "cb.ax.tick_params(labelsize=14)\n",
    "cb.ax.tick_params(labelsize=14)\n",
    "plt.show()"
   ]
  },
  {
   "cell_type": "markdown",
   "id": "1df6bfc2",
   "metadata": {},
   "source": [
    "Между объясняющими переменными практически не обнаруживаются взаимосвязи. Выведем все значимые коэффициенты в одной таблице и определим\n",
    "минимальный / максимальный из них."
   ]
  },
  {
   "cell_type": "code",
   "execution_count": 121,
   "id": "67fe6d21",
   "metadata": {},
   "outputs": [
    {
     "data": {
      "text/html": [
       "<div>\n",
       "<style scoped>\n",
       "    .dataframe tbody tr th:only-of-type {\n",
       "        vertical-align: middle;\n",
       "    }\n",
       "\n",
       "    .dataframe tbody tr th {\n",
       "        vertical-align: top;\n",
       "    }\n",
       "\n",
       "    .dataframe thead th {\n",
       "        text-align: right;\n",
       "    }\n",
       "</style>\n",
       "<table border=\"1\" class=\"dataframe\">\n",
       "  <thead>\n",
       "    <tr style=\"text-align: right;\">\n",
       "      <th></th>\n",
       "      <th>Показатель_1</th>\n",
       "      <th>Показатель_2</th>\n",
       "      <th>Корреляция</th>\n",
       "      <th>P_значение</th>\n",
       "    </tr>\n",
       "  </thead>\n",
       "  <tbody>\n",
       "    <tr>\n",
       "      <th>5</th>\n",
       "      <td>fixed_acidity</td>\n",
       "      <td>pH</td>\n",
       "      <td>-0.680575</td>\n",
       "      <td>0.0</td>\n",
       "    </tr>\n",
       "    <tr>\n",
       "      <th>23</th>\n",
       "      <td>chlorides</td>\n",
       "      <td>pH</td>\n",
       "      <td>-0.271395</td>\n",
       "      <td>0.0</td>\n",
       "    </tr>\n",
       "    <tr>\n",
       "      <th>13</th>\n",
       "      <td>volatile_acidity</td>\n",
       "      <td>sulphates</td>\n",
       "      <td>-0.255494</td>\n",
       "      <td>0.0</td>\n",
       "    </tr>\n",
       "    <tr>\n",
       "      <th>0</th>\n",
       "      <td>fixed_acidity</td>\n",
       "      <td>volatile_acidity</td>\n",
       "      <td>-0.242167</td>\n",
       "      <td>0.0</td>\n",
       "    </tr>\n",
       "    <tr>\n",
       "      <th>25</th>\n",
       "      <td>chlorides</td>\n",
       "      <td>alcohol</td>\n",
       "      <td>-0.225534</td>\n",
       "      <td>0.0</td>\n",
       "    </tr>\n",
       "    <tr>\n",
       "      <th>14</th>\n",
       "      <td>volatile_acidity</td>\n",
       "      <td>alcohol</td>\n",
       "      <td>-0.217178</td>\n",
       "      <td>0.0</td>\n",
       "    </tr>\n",
       "    <tr>\n",
       "      <th>33</th>\n",
       "      <td>pH</td>\n",
       "      <td>sulphates</td>\n",
       "      <td>-0.210718</td>\n",
       "      <td>0.0</td>\n",
       "    </tr>\n",
       "    <tr>\n",
       "      <th>32</th>\n",
       "      <td>total_sulfur_dioxide</td>\n",
       "      <td>alcohol</td>\n",
       "      <td>-0.196372</td>\n",
       "      <td>0.0</td>\n",
       "    </tr>\n",
       "    <tr>\n",
       "      <th>3</th>\n",
       "      <td>fixed_acidity</td>\n",
       "      <td>free_sulfur_dioxide</td>\n",
       "      <td>-0.159035</td>\n",
       "      <td>0.0</td>\n",
       "    </tr>\n",
       "    <tr>\n",
       "      <th>4</th>\n",
       "      <td>fixed_acidity</td>\n",
       "      <td>total_sulfur_dioxide</td>\n",
       "      <td>-0.116626</td>\n",
       "      <td>0.0</td>\n",
       "    </tr>\n",
       "    <tr>\n",
       "      <th>18</th>\n",
       "      <td>residual_sugar</td>\n",
       "      <td>pH</td>\n",
       "      <td>-0.086917</td>\n",
       "      <td>0.0</td>\n",
       "    </tr>\n",
       "    <tr>\n",
       "      <th>30</th>\n",
       "      <td>total_sulfur_dioxide</td>\n",
       "      <td>pH</td>\n",
       "      <td>-0.068409</td>\n",
       "      <td>0.0</td>\n",
       "    </tr>\n",
       "    <tr>\n",
       "      <th>29</th>\n",
       "      <td>free_sulfur_dioxide</td>\n",
       "      <td>alcohol</td>\n",
       "      <td>-0.055429</td>\n",
       "      <td>0.0</td>\n",
       "    </tr>\n",
       "    <tr>\n",
       "      <th>7</th>\n",
       "      <td>fixed_acidity</td>\n",
       "      <td>alcohol</td>\n",
       "      <td>-0.042111</td>\n",
       "      <td>0.0</td>\n",
       "    </tr>\n",
       "    <tr>\n",
       "      <th>10</th>\n",
       "      <td>volatile_acidity</td>\n",
       "      <td>free_sulfur_dioxide</td>\n",
       "      <td>-0.008485</td>\n",
       "      <td>0.0</td>\n",
       "    </tr>\n",
       "    <tr>\n",
       "      <th>8</th>\n",
       "      <td>volatile_acidity</td>\n",
       "      <td>residual_sugar</td>\n",
       "      <td>-0.007380</td>\n",
       "      <td>0.0</td>\n",
       "    </tr>\n",
       "    <tr>\n",
       "      <th>19</th>\n",
       "      <td>residual_sugar</td>\n",
       "      <td>sulphates</td>\n",
       "      <td>0.000040</td>\n",
       "      <td>0.0</td>\n",
       "    </tr>\n",
       "    <tr>\n",
       "      <th>21</th>\n",
       "      <td>chlorides</td>\n",
       "      <td>free_sulfur_dioxide</td>\n",
       "      <td>0.023734</td>\n",
       "      <td>0.0</td>\n",
       "    </tr>\n",
       "    <tr>\n",
       "      <th>31</th>\n",
       "      <td>total_sulfur_dioxide</td>\n",
       "      <td>sulphates</td>\n",
       "      <td>0.047671</td>\n",
       "      <td>0.0</td>\n",
       "    </tr>\n",
       "    <tr>\n",
       "      <th>22</th>\n",
       "      <td>chlorides</td>\n",
       "      <td>total_sulfur_dioxide</td>\n",
       "      <td>0.055175</td>\n",
       "      <td>0.0</td>\n",
       "    </tr>\n",
       "    <tr>\n",
       "      <th>15</th>\n",
       "      <td>residual_sugar</td>\n",
       "      <td>chlorides</td>\n",
       "      <td>0.057104</td>\n",
       "      <td>0.0</td>\n",
       "    </tr>\n",
       "    <tr>\n",
       "      <th>28</th>\n",
       "      <td>free_sulfur_dioxide</td>\n",
       "      <td>sulphates</td>\n",
       "      <td>0.059253</td>\n",
       "      <td>0.0</td>\n",
       "    </tr>\n",
       "    <tr>\n",
       "      <th>20</th>\n",
       "      <td>residual_sugar</td>\n",
       "      <td>alcohol</td>\n",
       "      <td>0.060745</td>\n",
       "      <td>0.0</td>\n",
       "    </tr>\n",
       "    <tr>\n",
       "      <th>27</th>\n",
       "      <td>free_sulfur_dioxide</td>\n",
       "      <td>pH</td>\n",
       "      <td>0.073450</td>\n",
       "      <td>0.0</td>\n",
       "    </tr>\n",
       "    <tr>\n",
       "      <th>2</th>\n",
       "      <td>fixed_acidity</td>\n",
       "      <td>chlorides</td>\n",
       "      <td>0.076502</td>\n",
       "      <td>0.0</td>\n",
       "    </tr>\n",
       "    <tr>\n",
       "      <th>9</th>\n",
       "      <td>volatile_acidity</td>\n",
       "      <td>chlorides</td>\n",
       "      <td>0.077569</td>\n",
       "      <td>0.0</td>\n",
       "    </tr>\n",
       "    <tr>\n",
       "      <th>11</th>\n",
       "      <td>volatile_acidity</td>\n",
       "      <td>total_sulfur_dioxide</td>\n",
       "      <td>0.078842</td>\n",
       "      <td>0.0</td>\n",
       "    </tr>\n",
       "    <tr>\n",
       "      <th>35</th>\n",
       "      <td>sulphates</td>\n",
       "      <td>alcohol</td>\n",
       "      <td>0.092751</td>\n",
       "      <td>0.0</td>\n",
       "    </tr>\n",
       "    <tr>\n",
       "      <th>1</th>\n",
       "      <td>fixed_acidity</td>\n",
       "      <td>residual_sugar</td>\n",
       "      <td>0.109830</td>\n",
       "      <td>0.0</td>\n",
       "    </tr>\n",
       "    <tr>\n",
       "      <th>6</th>\n",
       "      <td>fixed_acidity</td>\n",
       "      <td>sulphates</td>\n",
       "      <td>0.173452</td>\n",
       "      <td>0.0</td>\n",
       "    </tr>\n",
       "    <tr>\n",
       "      <th>34</th>\n",
       "      <td>pH</td>\n",
       "      <td>alcohol</td>\n",
       "      <td>0.202586</td>\n",
       "      <td>0.0</td>\n",
       "    </tr>\n",
       "    <tr>\n",
       "      <th>16</th>\n",
       "      <td>residual_sugar</td>\n",
       "      <td>free_sulfur_dioxide</td>\n",
       "      <td>0.211402</td>\n",
       "      <td>0.0</td>\n",
       "    </tr>\n",
       "    <tr>\n",
       "      <th>17</th>\n",
       "      <td>residual_sugar</td>\n",
       "      <td>total_sulfur_dioxide</td>\n",
       "      <td>0.212280</td>\n",
       "      <td>0.0</td>\n",
       "    </tr>\n",
       "    <tr>\n",
       "      <th>12</th>\n",
       "      <td>volatile_acidity</td>\n",
       "      <td>pH</td>\n",
       "      <td>0.215736</td>\n",
       "      <td>0.0</td>\n",
       "    </tr>\n",
       "    <tr>\n",
       "      <th>24</th>\n",
       "      <td>chlorides</td>\n",
       "      <td>sulphates</td>\n",
       "      <td>0.384140</td>\n",
       "      <td>0.0</td>\n",
       "    </tr>\n",
       "    <tr>\n",
       "      <th>26</th>\n",
       "      <td>free_sulfur_dioxide</td>\n",
       "      <td>total_sulfur_dioxide</td>\n",
       "      <td>0.667484</td>\n",
       "      <td>0.0</td>\n",
       "    </tr>\n",
       "  </tbody>\n",
       "</table>\n",
       "</div>"
      ],
      "text/plain": [
       "            Показатель_1          Показатель_2  Корреляция  P_значение\n",
       "5          fixed_acidity                    pH   -0.680575         0.0\n",
       "23             chlorides                    pH   -0.271395         0.0\n",
       "13      volatile_acidity             sulphates   -0.255494         0.0\n",
       "0          fixed_acidity      volatile_acidity   -0.242167         0.0\n",
       "25             chlorides               alcohol   -0.225534         0.0\n",
       "14      volatile_acidity               alcohol   -0.217178         0.0\n",
       "33                    pH             sulphates   -0.210718         0.0\n",
       "32  total_sulfur_dioxide               alcohol   -0.196372         0.0\n",
       "3          fixed_acidity   free_sulfur_dioxide   -0.159035         0.0\n",
       "4          fixed_acidity  total_sulfur_dioxide   -0.116626         0.0\n",
       "18        residual_sugar                    pH   -0.086917         0.0\n",
       "30  total_sulfur_dioxide                    pH   -0.068409         0.0\n",
       "29   free_sulfur_dioxide               alcohol   -0.055429         0.0\n",
       "7          fixed_acidity               alcohol   -0.042111         0.0\n",
       "10      volatile_acidity   free_sulfur_dioxide   -0.008485         0.0\n",
       "8       volatile_acidity        residual_sugar   -0.007380         0.0\n",
       "19        residual_sugar             sulphates    0.000040         0.0\n",
       "21             chlorides   free_sulfur_dioxide    0.023734         0.0\n",
       "31  total_sulfur_dioxide             sulphates    0.047671         0.0\n",
       "22             chlorides  total_sulfur_dioxide    0.055175         0.0\n",
       "15        residual_sugar             chlorides    0.057104         0.0\n",
       "28   free_sulfur_dioxide             sulphates    0.059253         0.0\n",
       "20        residual_sugar               alcohol    0.060745         0.0\n",
       "27   free_sulfur_dioxide                    pH    0.073450         0.0\n",
       "2          fixed_acidity             chlorides    0.076502         0.0\n",
       "9       volatile_acidity             chlorides    0.077569         0.0\n",
       "11      volatile_acidity  total_sulfur_dioxide    0.078842         0.0\n",
       "35             sulphates               alcohol    0.092751         0.0\n",
       "1          fixed_acidity        residual_sugar    0.109830         0.0\n",
       "6          fixed_acidity             sulphates    0.173452         0.0\n",
       "34                    pH               alcohol    0.202586         0.0\n",
       "16        residual_sugar   free_sulfur_dioxide    0.211402         0.0\n",
       "17        residual_sugar  total_sulfur_dioxide    0.212280         0.0\n",
       "12      volatile_acidity                    pH    0.215736         0.0\n",
       "24             chlorides             sulphates    0.384140         0.0\n",
       "26   free_sulfur_dioxide  total_sulfur_dioxide    0.667484         0.0"
      ]
     },
     "execution_count": 121,
     "metadata": {},
     "output_type": "execute_result"
    }
   ],
   "source": [
    "# делаем фрейм из корреляционной матрицы и стираем диагональные значения\n",
    "# и нижний треугольник матрицы\n",
    "df = corr_mat\n",
    "df = df.where(np.triu(np.ones(df.shape), k=1).astype(bool))\n",
    "# меняем размерность с матрицы на таблицу: показатель 1, показатель 2,\n",
    "# корреляция\n",
    "df = df.stack().reset_index()\n",
    "df.columns = ['Показатель_1', 'Показатель_2', 'Корреляция']\n",
    "# считаем двусторонние p-значения для проверки значимости\n",
    "t_stat = np.sqrt((len(DF.index) - 2) / (1 - df.Корреляция.values ** 2))\n",
    "df['P_значение'] = 2*(1 - t.cdf(abs(t_stat), len(DF.index) - 2))\n",
    "# получили все корреляционные коэффициенты без 1 и без повторов\n",
    "# выводим все значимые с сортировкой\n",
    "df.loc[df['P_значение'] < 0.05].sort_values('Корреляция')"
   ]
  },
  {
   "cell_type": "markdown",
   "id": "e860ef1d",
   "metadata": {},
   "source": [
    "# Методы снижения размерности"
   ]
  },
  {
   "cell_type": "markdown",
   "id": "1983a314",
   "metadata": {},
   "source": [
    "Посмотрим, как работает метод снижения размерности:\n",
    "Воспользуемся методом, указанным в моем варианте, а именно - частный метод наименьших квадратов (PLS)"
   ]
  },
  {
   "cell_type": "markdown",
   "id": "b7a11368",
   "metadata": {},
   "source": [
    "Оба метода требуют предварительной стандартизации переменных."
   ]
  },
  {
   "cell_type": "code",
   "execution_count": 122,
   "id": "1b747e9e",
   "metadata": {},
   "outputs": [
    {
     "name": "stdout",
     "output_type": "stream",
     "text": [
      "Столбец 0: среднее = -0.0 Станд. отклонение = 1.0\n",
      "Столбец 1: среднее = -0.0 Станд. отклонение = 1.0\n",
      "Столбец 2: среднее = -0.0 Станд. отклонение = 1.0\n",
      "Столбец 3: среднее = 0.0 Станд. отклонение = 1.0\n",
      "Столбец 4: среднее = 0.0 Станд. отклонение = 1.0\n",
      "Столбец 5: среднее = 0.0 Станд. отклонение = 1.0\n",
      "Столбец 6: среднее = -0.0 Станд. отклонение = 1.0\n",
      "Столбец 7: среднее = -0.0 Станд. отклонение = 1.0\n",
      "Столбец 8: среднее = -0.0 Станд. отклонение = 1.0\n",
      "Столбец 9: среднее = -0.0 Станд. отклонение = 1.0\n"
     ]
    }
   ],
   "source": [
    "# стандартизация\n",
    "sc = StandardScaler()\n",
    "X_train_std = sc.fit_transform(DF.iloc[:, :11].values)\n",
    "# проверяем средние и стандартные отклонения после стандартизации\n",
    "for i_col in range(X_train_std.shape[1]) :\n",
    "    print('Столбец ', i_col, ': среднее = ',\n",
    "          np.round(np.mean(X_train_std[:, i_col]), 2),\n",
    "          ' Станд. отклонение = ',\n",
    "          np.round(np.std(X_train_std[:, i_col]), 2), sep='')"
   ]
  },
  {
   "cell_type": "markdown",
   "id": "86966ee7",
   "metadata": {},
   "source": [
    "## Метод частных наименьших квадратов"
   ]
  },
  {
   "cell_type": "markdown",
   "id": "cd9c9eb7",
   "metadata": {},
   "source": [
    "Сначала посмотрим, как работает метод на всех наблюдениях обучающего набора."
   ]
  },
  {
   "cell_type": "code",
   "execution_count": 123,
   "id": "f4dcb628",
   "metadata": {},
   "outputs": [
    {
     "name": "stdout",
     "output_type": "stream",
     "text": [
      "Доли объяснённой дисперсии по компонентам в PLS:\n",
      " [0.173 0.085 0.129 0.126 0.076 0.072 0.056 0.054 0.049] \n",
      "Общая сумма долей: 0.819\n"
     ]
    }
   ],
   "source": [
    "\n",
    "# функция для оценки модели, берём все компоненты, по числу столбцов X\n",
    "pls = PLSRegression(n_components=9)\n",
    "# значения зависимой переменной превращаем в фиктивные по классам\n",
    "Y_train = pd.get_dummies(DF[['Y']].astype(str))\n",
    "# оцениваем\n",
    "pls.fit(X_train_std, Y_train)\n",
    "\n",
    "# считаем долю объяснённой дисперсии\n",
    "frac_var_expl = np.var(pls.x_scores_, axis = 0) / np.sum(np.var(X_train_std, axis = 0))\n",
    "print('Доли объяснённой дисперсии по компонентам в PLS:\\n',\n",
    "     np.around(frac_var_expl, 3),\n",
    "     '\\nОбщая сумма долей:', np.around(sum(frac_var_expl), 3))"
   ]
  },
  {
   "cell_type": "markdown",
   "id": "1d507581",
   "metadata": {},
   "source": [
    "Из-за того, что при вычислении компонент метдом PLS мы учитываем корреляцию с ,\n",
    "компоненты, во-первых, не ортогональны, а во-вторых сумма объяснённых долей дисперсии\n",
    "уже не равняется 1."
   ]
  },
  {
   "cell_type": "code",
   "execution_count": 125,
   "id": "2d9abbfc",
   "metadata": {},
   "outputs": [
    {
     "data": {
      "text/html": [
       "<div>\n",
       "<style scoped>\n",
       "    .dataframe tbody tr th:only-of-type {\n",
       "        vertical-align: middle;\n",
       "    }\n",
       "\n",
       "    .dataframe tbody tr th {\n",
       "        vertical-align: top;\n",
       "    }\n",
       "\n",
       "    .dataframe thead th {\n",
       "        text-align: right;\n",
       "    }\n",
       "</style>\n",
       "<table border=\"1\" class=\"dataframe\">\n",
       "  <thead>\n",
       "    <tr style=\"text-align: right;\">\n",
       "      <th></th>\n",
       "      <th>0</th>\n",
       "      <th>1</th>\n",
       "    </tr>\n",
       "  </thead>\n",
       "  <tbody>\n",
       "    <tr>\n",
       "      <th>0</th>\n",
       "      <td>0.145418</td>\n",
       "      <td>0.854582</td>\n",
       "    </tr>\n",
       "    <tr>\n",
       "      <th>1</th>\n",
       "      <td>1.052510</td>\n",
       "      <td>-0.052510</td>\n",
       "    </tr>\n",
       "    <tr>\n",
       "      <th>2</th>\n",
       "      <td>1.064220</td>\n",
       "      <td>-0.064220</td>\n",
       "    </tr>\n",
       "    <tr>\n",
       "      <th>3</th>\n",
       "      <td>-0.149691</td>\n",
       "      <td>1.149691</td>\n",
       "    </tr>\n",
       "    <tr>\n",
       "      <th>4</th>\n",
       "      <td>-0.023901</td>\n",
       "      <td>1.023901</td>\n",
       "    </tr>\n",
       "    <tr>\n",
       "      <th>...</th>\n",
       "      <td>...</td>\n",
       "      <td>...</td>\n",
       "    </tr>\n",
       "    <tr>\n",
       "      <th>1354</th>\n",
       "      <td>0.954871</td>\n",
       "      <td>0.045129</td>\n",
       "    </tr>\n",
       "    <tr>\n",
       "      <th>1355</th>\n",
       "      <td>0.033425</td>\n",
       "      <td>0.966575</td>\n",
       "    </tr>\n",
       "    <tr>\n",
       "      <th>1356</th>\n",
       "      <td>0.914239</td>\n",
       "      <td>0.085761</td>\n",
       "    </tr>\n",
       "    <tr>\n",
       "      <th>1357</th>\n",
       "      <td>-0.013626</td>\n",
       "      <td>1.013626</td>\n",
       "    </tr>\n",
       "    <tr>\n",
       "      <th>1358</th>\n",
       "      <td>-0.053361</td>\n",
       "      <td>1.053361</td>\n",
       "    </tr>\n",
       "  </tbody>\n",
       "</table>\n",
       "<p>1359 rows × 2 columns</p>\n",
       "</div>"
      ],
      "text/plain": [
       "             0         1\n",
       "0     0.145418  0.854582\n",
       "1     1.052510 -0.052510\n",
       "2     1.064220 -0.064220\n",
       "3    -0.149691  1.149691\n",
       "4    -0.023901  1.023901\n",
       "...        ...       ...\n",
       "1354  0.954871  0.045129\n",
       "1355  0.033425  0.966575\n",
       "1356  0.914239  0.085761\n",
       "1357 -0.013626  1.013626\n",
       "1358 -0.053361  1.053361\n",
       "\n",
       "[1359 rows x 2 columns]"
      ]
     },
     "execution_count": 125,
     "metadata": {},
     "output_type": "execute_result"
    }
   ],
   "source": [
    "# сокращаем пространство компонент до 2\n",
    "pls = PLSRegression(n_components=2)\n",
    "# перестраиваем модель\n",
    "pls.fit(X_train_std, Y_train)\n",
    "# пересчитываем X\n",
    "X_train_pls = pls.transform(X_train_std)\n",
    "# предсказываем принадлежности классов для обучающего набора\n",
    "Y_train_pred = pls.predict(X_train_std)\n",
    "pd.DataFrame(Y_train_pred)"
   ]
  },
  {
   "cell_type": "code",
   "execution_count": 126,
   "id": "01958d53",
   "metadata": {},
   "outputs": [
    {
     "data": {
      "text/plain": [
       "dict_items([(1, 723), (0, 636)])"
      ]
     },
     "execution_count": 126,
     "metadata": {},
     "output_type": "execute_result"
    }
   ],
   "source": [
    "# вычисляем классы\n",
    "Y_train_hat = list()\n",
    "for y_i in Y_train_pred :\n",
    "    Y_train_hat.append([i for i in range(len(y_i)) if y_i[i] == max(y_i)][0])\n",
    "    \n",
    "# сколько наблюдений попали в каждый класс по модели\n",
    "Counter(Y_train_hat).items()"
   ]
  },
  {
   "cell_type": "markdown",
   "id": "b807596d",
   "metadata": {},
   "source": [
    "Рисуем классы на графике в координатах 2 главных компонент по PLS."
   ]
  },
  {
   "cell_type": "code",
   "execution_count": 127,
   "id": "49b27c78",
   "metadata": {},
   "outputs": [
    {
     "data": {
      "image/png": "[encoded data removed]",
      "text/plain": [
       "<Figure size 432x288 with 1 Axes>"
      ]
     },
     "metadata": {},
     "output_type": "display_data"
    }
   ],
   "source": [
    "# график классов в пространстве ГК\n",
    "plt.scatter(X_train_pls[DF['Y'] == 0][:, 0],\n",
    "            X_train_pls[DF['Y'] == 0][:, 1], label='Y: 0')\n",
    "plt.scatter(X_train_pls[DF['Y'] == 1][:, 0],\n",
    "            X_train_pls[DF['Y'] == 1][:, 1], label='Y: 1')\n",
    "plt.xlabel('ГК 1 по PLS')\n",
    "plt.ylabel('ГК 2 по PLS')\n",
    "plt.legend()\n",
    "plt.show()"
   ]
  },
  {
   "cell_type": "markdown",
   "id": "b9afef6c",
   "metadata": {},
   "source": [
    "Видно, что в координатах двух компонент, рассчитанных методом частных наименьших\n",
    "квадратов, классы также оказываются хорошо разделимы.\n",
    "Теперь оценим точность модели с перекрёстной проверкой."
   ]
  },
  {
   "cell_type": "code",
   "execution_count": 137,
   "id": "b8262c01",
   "metadata": {},
   "outputs": [
    {
     "name": "stdout",
     "output_type": "stream",
     "text": [
      "Модель logit_PLS, перекрёстная проверка по 10 блокам\n",
      "Acc = 1.0\n"
     ]
    }
   ],
   "source": [
    "score=[]\n",
    "score_models = []\n",
    "# функция разбиения на блоки для перекрёстной проверки\n",
    "# для чистоты эксперимента возьмём другое ядро генератора случайных чисел\n",
    "kf_10 = KFold(n_splits=10, random_state=my_seed+1, shuffle=True)\n",
    "# считаем точность модели (Acc) с перекрёстной проверкой по блокам\n",
    "# функция cross_val_score не сработает, т.к. у нас мультиклассовая\n",
    "# классификация, поэтому делаем вручную\n",
    "# значения Y как метки классов\n",
    "Y_train = DF.Y.values\n",
    "# значения Y как фиктивные переменные\n",
    "Y_train_dummy = pd.get_dummies(Y_train.astype(str))\n",
    "# модель внутри блока\n",
    "pls_cv = PLSRegression(n_components=2)\n",
    "# для записи Acc по блокам\n",
    "acc_blocks = list()\n",
    "# цикл по блокам\n",
    "for train_index, test_index in kf_10.split(X_train_std, DF.Y.values) :\n",
    "    # данные для модели внутри блока\n",
    "    X_i_train = X_train_std[train_index]\n",
    "    Y_i_train = Y_train_dummy.iloc[train_index, :]\n",
    "    # данные для прогноза вне блока\n",
    "    X_i_test = X_train_std[test_index]\n",
    "    Y_i_test = Y_train[test_index]\n",
    "    # оцениваем модель на блоке\n",
    "    pls_cv.fit(X_i_train, Y_i_train)\n",
    "    # делаем прогноз y вне блока\n",
    "    Y_pred = pls.predict(X_i_test)\n",
    "    Y_hat = list()\n",
    "    for y_i in Y_pred :\n",
    "        Y_hat.append([i for i in range(len(y_i)) if y_i[i] == max(y_i)][0])\n",
    "        # считаем точность\n",
    "    acc = accuracy_score(Y_i_test, Y_hat)\n",
    "    acc_blocks.append(acc)\n",
    "        \n",
    "score.append(np.around(np.mean(acc_blocks), 2))\n",
    "score_models.append('logit_PLS')\n",
    "print('Модель ', score_models[0], ', перекрёстная проверка по 10 блокам',\n",
    "      '\\nAcc = ', np.around(score[0], 2), sep='')"
   ]
  },
  {
   "cell_type": "markdown",
   "id": "734634b6",
   "metadata": {},
   "source": [
    "# Методы сжатия"
   ]
  },
  {
   "cell_type": "markdown",
   "id": "f6d177fd",
   "metadata": {},
   "source": [
    "## Лассо-регрессия"
   ]
  },
  {
   "cell_type": "markdown",
   "id": "13de41b2",
   "metadata": {},
   "source": [
    "Технически реализация лассо-регрессии отличается от ридж единственным аргументом\n",
    "penalty='l1' в функции LogisticRegression ."
   ]
  },
  {
   "cell_type": "code",
   "execution_count": 138,
   "id": "f9cd2f22",
   "metadata": {},
   "outputs": [
    {
     "name": "stdout",
     "output_type": "stream",
     "text": [
      "Константы моделей для классов:\n",
      " [0.372] \n",
      "Коэффициенты моделей для классов:\n",
      " [[ 0.024 -0.212  0.006 -0.096  0.056 -0.219 -0.011  0.185  0.349  5.337]]\n"
     ]
    }
   ],
   "source": [
    "# функция для построения модели\n",
    "logit_lasso = LogisticRegression(penalty='l2', solver='liblinear')\n",
    "# оцениваем параметры\n",
    "logit_lasso.fit(X_train_std, Y_train)\n",
    "# выводим параметры\n",
    "print('Константы моделей для классов:\\n', np.around(logit_lasso.intercept_, 3),\n",
    "      '\\nКоэффициенты моделей для классов:\\n', np.around(logit_lasso.coef_, 3))"
   ]
  },
  {
   "cell_type": "markdown",
   "id": "fe7de1e6",
   "metadata": {},
   "source": [
    "Отметим, что в векторе коэффициентов появились нулевые значения: метод лассо позволяет\n",
    "обнулять коэффициенты, тем самым отбрасывая слабые объясняющие переменные."
   ]
  },
  {
   "cell_type": "code",
   "execution_count": 139,
   "id": "63a9e5ac",
   "metadata": {},
   "outputs": [
    {
     "data": {
      "text/plain": [
       "array([0.00599484])"
      ]
     },
     "execution_count": 139,
     "metadata": {},
     "output_type": "execute_result"
    }
   ],
   "source": [
    "# поиск оптимального значения C:\n",
    "# подбираем C по наибольшей точности с перекрёстной проверкой\n",
    "lasso_cv = LogisticRegressionCV(cv=10, random_state=my_seed,\n",
    "                                penalty='l1', solver='liblinear')\n",
    "lasso_cv.fit(X_train_std, Y_train)\n",
    "# значения параметра C (инверсия лямбды), которые дают наилучшую\n",
    "# точность для каждого класса\n",
    "lasso_cv.C_"
   ]
  },
  {
   "cell_type": "code",
   "execution_count": 140,
   "id": "2fb6cce4",
   "metadata": {},
   "outputs": [],
   "source": [
    "# сохраняем и выводим Acc для модели\n",
    "score.append(np.around(lasso_cv.score(X_train_std, Y_train), 3))"
   ]
  },
  {
   "cell_type": "code",
   "execution_count": 141,
   "id": "c3d1c46d",
   "metadata": {},
   "outputs": [
    {
     "name": "stdout",
     "output_type": "stream",
     "text": [
      "Модель logit_lasso, перекрёстная проверка по 10 блокам\n",
      "Acc = 1.0\n"
     ]
    }
   ],
   "source": [
    "score_models.append('logit_lasso')\n",
    "print('Модель ', score_models[1], ', перекрёстная проверка по 10 блокам',\n",
    "      '\\nAcc = ', score[1], sep='')"
   ]
  },
  {
   "cell_type": "code",
   "execution_count": 149,
   "id": "5870cb8d",
   "metadata": {},
   "outputs": [
    {
     "data": {
      "image/png": "[encoded data removed]",
      "text/plain": [
       "<Figure size 432x288 with 1 Axes>"
      ]
     },
     "metadata": {},
     "output_type": "display_data"
    }
   ],
   "source": [
    "# график динамики коэффициентов в лассо-регрессии\n",
    "# модель для класса 0\n",
    "plot_coeffs_traces(X_train_std, Y_train, 0, 'l2', lasso_cv.C_, DF.columns)"
   ]
  },
  {
   "cell_type": "markdown",
   "id": "426912e0",
   "metadata": {},
   "source": [
    "Итак, судя по графикам, для значения гиперпараметра, дающего самую точную модель, ни\n",
    "один коэффициент при объясняющих переменных не обнуляется. Это подтверждает\n",
    "наблюдение, сделанное нами ещё на этапе предварительного анализа: все объясняющие\n",
    "переменные неплохо разделяют классы."
   ]
  },
  {
   "cell_type": "markdown",
   "id": "e48e90db",
   "metadata": {},
   "source": [
    "# Прогноз на отложенные наблюдения по лучшей модели"
   ]
  },
  {
   "cell_type": "code",
   "execution_count": 150,
   "id": "f64142d1",
   "metadata": {},
   "outputs": [
    {
     "data": {
      "text/html": [
       "<div>\n",
       "<style scoped>\n",
       "    .dataframe tbody tr th:only-of-type {\n",
       "        vertical-align: middle;\n",
       "    }\n",
       "\n",
       "    .dataframe tbody tr th {\n",
       "        vertical-align: top;\n",
       "    }\n",
       "\n",
       "    .dataframe thead th {\n",
       "        text-align: right;\n",
       "    }\n",
       "</style>\n",
       "<table border=\"1\" class=\"dataframe\">\n",
       "  <thead>\n",
       "    <tr style=\"text-align: right;\">\n",
       "      <th></th>\n",
       "      <th>Модель</th>\n",
       "      <th>Acc</th>\n",
       "    </tr>\n",
       "  </thead>\n",
       "  <tbody>\n",
       "    <tr>\n",
       "      <th>0</th>\n",
       "      <td>logit_PLS</td>\n",
       "      <td>1.0</td>\n",
       "    </tr>\n",
       "    <tr>\n",
       "      <th>1</th>\n",
       "      <td>logit_lasso</td>\n",
       "      <td>1.0</td>\n",
       "    </tr>\n",
       "  </tbody>\n",
       "</table>\n",
       "</div>"
      ],
      "text/plain": [
       "        Модель  Acc\n",
       "0    logit_PLS  1.0\n",
       "1  logit_lasso  1.0"
      ]
     },
     "execution_count": 150,
     "metadata": {},
     "output_type": "execute_result"
    }
   ],
   "source": [
    "# сводка по точности моделей\n",
    "pd.DataFrame({'Модель' : score_models, 'Acc' : score})"
   ]
  },
  {
   "cell_type": "markdown",
   "id": "ac17c240",
   "metadata": {},
   "source": [
    "Все модели показывают высокую точность по показателю. Сделаем прогноз на отложенные наблюдения.\n"
   ]
  },
  {
   "cell_type": "code",
   "execution_count": null,
   "id": "65f9d416",
   "metadata": {},
   "outputs": [],
   "source": []
  },
  {
   "cell_type": "code",
   "execution_count": null,
   "id": "dab8475a",
   "metadata": {},
   "outputs": [],
   "source": []
  }
 ],
 "metadata": {
  "kernelspec": {
   "display_name": "Python 3 (ipykernel)",
   "language": "python",
   "name": "python3"
  },
  "language_info": {
   "codemirror_mode": {
    "name": "ipython",
    "version": 3
   },
   "file_extension": ".py",
   "mimetype": "text/x-python",
   "name": "python",
   "nbconvert_exporter": "python",
   "pygments_lexer": "ipython3",
   "version": "3.11.7"
  }
 },
 "nbformat": 4,
 "nbformat_minor": 5
}
